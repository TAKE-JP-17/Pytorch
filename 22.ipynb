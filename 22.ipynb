{
  "nbformat": 4,
  "nbformat_minor": 0,
  "metadata": {
    "colab": {
      "provenance": [],
      "authorship_tag": "ABX9TyOYBLTQJByQXNP6zRdhGwfQ",
      "include_colab_link": true
    },
    "kernelspec": {
      "name": "python3",
      "display_name": "Python 3"
    },
    "language_info": {
      "name": "python"
    }
  },
  "cells": [
    {
      "cell_type": "markdown",
      "metadata": {
        "id": "view-in-github",
        "colab_type": "text"
      },
      "source": [
        "<a href=\"https://colab.research.google.com/github/TAKE-JP-17/Pytorch/blob/main/22.ipynb\" target=\"_parent\"><img src=\"https://colab.research.google.com/assets/colab-badge.svg\" alt=\"Open In Colab\"/></a>"
      ]
    },
    {
      "cell_type": "code",
      "execution_count": null,
      "metadata": {
        "id": "e59IE24knCII"
      },
      "outputs": [],
      "source": [
        "# Install Earth Engine API\n",
        "!pip install earthengine-api\n",
        "\n",
        "# Authenticate and initialize GEE\n",
        "import ee\n",
        "from google.colab import auth\n",
        "auth.authenticate_user()\n",
        "\n",
        "# Initialize Earth Engine\n",
        "ee.Initialize()"
      ]
    },
    {
      "cell_type": "code",
      "source": [
        "# Define a region (replace with Tainan City geometry)\n",
        "geometry = ee.Geometry.Polygon([\n",
        "  [[120.0093, 22.7373], [120.3001, 22.7373],\n",
        "   [120.3001, 23.3308], [120.0093, 23.3308],\n",
        "   [120.0093, 22.7373]]\n",
        "])"
      ],
      "metadata": {
        "id": "M8VEX_sEnHun"
      },
      "execution_count": null,
      "outputs": []
    },
    {
      "cell_type": "code",
      "source": [
        "\n",
        "var startDate = ee.Date('2023-01-01');\n",
        "var endDate = startDate.advance(1, 'year');\n",
        "\n",
        "var exportResolutionMeters = 30;\n",
        "\n",
        "var waterbodySizeMeters = 2000;\n",
        "var islandSizeMeters = 1000;\n",
        "\n",
        "var collection = ee.ImageCollection('LANDSAT/LC08/C02/T1_L2')\n",
        "  .filter(ee.Filter.date(startDate, endDate))\n",
        "  .filter(ee.Filter.lt('CLOUD_COVER', 30))\n",
        "  .filter(ee.Filter.bounds(geometry));\n",
        "\n",
        "var collection = collection.select(\n",
        "  ['SR_B2', 'SR_B3', 'SR_B4', 'SR_B5', 'SR_B6', 'SR_B7'],\n",
        "  ['blue',  'green', 'red',   'nir',   'swir1', 'swir2']\n",
        ");\n",
        "\n",
        "var composite = collection.median().clip(geometry);\n",
        "\n",
        "var rgbVis = {\n",
        "  bands: ['red', 'green', 'blue'],\n",
        "  min: 1,\n",
        "  max: 30000\n",
        "};\n",
        "\n",
        "Map.addLayer(composite, rgbVis, 'Satellite Image')\n",
        "\n",
        "# Gao\n",
        "var ndwi = composite.normalizedDifference(['nir', 'swir1']).rename('ndwi');\n",
        "Map.addLayer(ndwi, {min:-1, max:1, palette: ['white', 'black']}, 'NDWI Image')"
      ],
      "metadata": {
        "id": "DtSw__25nJoB"
      },
      "execution_count": null,
      "outputs": []
    },
    {
      "cell_type": "code",
      "source": [
        "var detectWater = function(image) {\n",
        " # Otsu Thresholding\n",
        "  var thresholding = require('users/gena/packages:thresholding');\n",
        "  var scale = 100;\n",
        "  var bounds = geometry;\n",
        "  var cannyThreshold = 0.7;\n",
        "  var cannySigma = 1;\n",
        "  var minValue =  0.0045;\n",
        "  var th = thresholding.computeThresholdUsingOtsu(\n",
        "    ndwi, scale, bounds, cannyThreshold, cannySigma, minValue);\n",
        "\n",
        "  var water = ndwi.gt(th).selfMask().rename('water');\n",
        "\n",
        "  return water;\n",
        "};\n",
        "\n",
        "var water = detectWater(composite);\n",
        "Map.addLayer(water, {palette: ['white', 'black']}, 'NDWI Binarization')\n",
        "\n",
        "var coastline = water.reduceToVectors({\n",
        "  geometryType: 'polygon',\n",
        "  reducer: ee.Reducer.countEvery(),\n",
        "  scale: 10,\n",
        "  geometry: geometry\n",
        "});\n",
        "\n",
        "Map.addLayer(coastline, {color: 'blue'}, 'Land-Water Boundary (Vector)');\n",
        "Map.centerObject(geometry, 10);\n",
        "\n",
        "\n",
        "# This function takes vectorized polygons and\n",
        "# extracts a polyline\n",
        "var simplifyAndExtractCoastline = function(coastline){\n",
        "  # Simplify vectors\n",
        "  var processedVectors = coastline.map(function(f) {\n",
        "    var coords = f.geometry()\n",
        "      .simplify({maxError: exportResolutionMeters})\n",
        "      .coordinates();\n",
        "\n",
        "    # Buffer the geometry by a pixel to avoid rasterizing\n",
        "    # the boundary polygon\n",
        "    var bufferDistance = ee.Number(\n",
        "      exportResolutionMeters).multiply(-1);\n",
        "    return f\n",
        "      .setGeometry(\n",
        "        ee.Geometry.MultiLineString(coords)\n",
        "          .intersection(geometry.buffer(bufferDistance)));\n",
        "  });\n",
        "  return processedVectors;\n",
        "};\n",
        "\n",
        "var coastlineVector = simplifyAndExtractCoastline(coastline);\n",
        "Map.addLayer(coastlineVector, {color: 'red'},\n",
        "  'Coastline (Vector)');\n",
        "Map.centerObject(geometry, 12);"
      ],
      "metadata": {
        "colab": {
          "base_uri": "https://localhost:8080/",
          "height": 106
        },
        "id": "tHRRBthsnz4L",
        "outputId": "9710a36e-c6be-4ddf-f061-0d32aa6fa695"
      },
      "execution_count": 1,
      "outputs": [
        {
          "output_type": "error",
          "ename": "SyntaxError",
          "evalue": "invalid syntax (<ipython-input-1-d4cb9f052d8c>, line 1)",
          "traceback": [
            "\u001b[0;36m  File \u001b[0;32m\"<ipython-input-1-d4cb9f052d8c>\"\u001b[0;36m, line \u001b[0;32m1\u001b[0m\n\u001b[0;31m    var detectWater = function(image) {\u001b[0m\n\u001b[0m        ^\u001b[0m\n\u001b[0;31mSyntaxError\u001b[0m\u001b[0;31m:\u001b[0m invalid syntax\n"
          ]
        }
      ]
    },
    {
      "cell_type": "code",
      "source": [
        "def detect_change(mndwi_current, mndwi_next, threshold=0.2):\n",
        "    # Calculate the difference between consecutive years\n",
        "    mndwi_diff = mndwi_next.subtract(mndwi_current).abs()\n",
        "\n",
        "    # Classify change based on the threshold\n",
        "    land_to_water = mndwi_diff.gt(threshold).And(mndwi_next.lt(mndwi_current))\n",
        "    water_to_land = mndwi_diff.gt(threshold).And(mndwi_next.gt(mndwi_current))\n",
        "\n",
        "    # Generate a change map: 1 = land to water (red), -1 = water to land (blue), 0 = no change (black)\n",
        "    change_map = land_to_water.multiply(1).add(water_to_land.multiply(-1))\n",
        "    return change_map"
      ],
      "metadata": {
        "id": "oXwSRXS7pg6z"
      },
      "execution_count": null,
      "outputs": []
    },
    {
      "cell_type": "code",
      "source": [
        "years = list(range(2000, 2023))\n",
        "\n",
        "# Store the yearly MNDWI maps\n",
        "mndwi_maps = [composite for year in years]\n",
        "\n",
        "# Detect changes between consecutive years\n",
        "change_maps = []\n",
        "for i in range(len(mndwi_maps) - 1):\n",
        "    change = detect_change(mndwi_maps[i], mndwi_maps[i+1])\n",
        "    change_maps.append(change)"
      ],
      "metadata": {
        "id": "6onxvXZZpiHY"
      },
      "execution_count": null,
      "outputs": []
    },
    {
      "cell_type": "code",
      "source": [
        "# Example visualization parameters\n",
        "viz_params = {\n",
        "    'min': -1,\n",
        "    'max': 1,\n",
        "    'palette': ['0000FF', '000000', 'FF0000']  # Blue, Black, Red\n",
        "}\n",
        "\n",
        "# Visualize a change map (e.g., between 2000 and 2001)\n",
        "import folium\n",
        "map_ = folium.Map(location=[23.0, 120.25], zoom_start=10)\n",
        "map_.add_ee_layer(change_maps[0], viz_params, 'Change Map 2000-2001')\n",
        "map_"
      ],
      "metadata": {
        "id": "CtW7IErzpqfj"
      },
      "execution_count": null,
      "outputs": []
    },
    {
      "cell_type": "code",
      "source": [
        "export_task = ee.batch.Export.image.toDrive(**{\n",
        "    'image': change_maps[0],\n",
        "    'description': 'MNDWI_change_2000_2001',\n",
        "    'scale': 30,\n",
        "    'region': tainan,\n",
        "    'maxPixels': 1e9\n",
        "})\n",
        "export_task.start()"
      ],
      "metadata": {
        "id": "xlHobsYQpswE"
      },
      "execution_count": null,
      "outputs": []
    }
  ]
}