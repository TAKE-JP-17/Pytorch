{
  "nbformat": 4,
  "nbformat_minor": 0,
  "metadata": {
    "colab": {
      "provenance": [],
      "mount_file_id": "15-xJaB4NHPj3mvemOmJUlpeWN2Vc4Uri",
      "authorship_tag": "ABX9TyMSJdkWm59NbAQvcQa9Rv4k",
      "include_colab_link": true
    },
    "kernelspec": {
      "name": "python3",
      "display_name": "Python 3"
    },
    "language_info": {
      "name": "python"
    }
  },
  "cells": [
    {
      "cell_type": "markdown",
      "metadata": {
        "id": "view-in-github",
        "colab_type": "text"
      },
      "source": [
        "<a href=\"https://colab.research.google.com/github/TAKE-JP-17/Pytorch/blob/main/Otsu_Threshold.ipynb\" target=\"_parent\"><img src=\"https://colab.research.google.com/assets/colab-badge.svg\" alt=\"Open In Colab\"/></a>"
      ]
    },
    {
      "cell_type": "code",
      "execution_count": 1,
      "metadata": {
        "colab": {
          "base_uri": "https://localhost:8080/"
        },
        "id": "mDYZnzXze8GZ",
        "outputId": "b94ad1b7-828e-4e61-b591-9e7904f5fea5"
      },
      "outputs": [
        {
          "output_type": "stream",
          "name": "stdout",
          "text": [
            "Drive already mounted at /content/drive; to attempt to forcibly remount, call drive.mount(\"/content/drive\", force_remount=True).\n",
            "Requirement already satisfied: scikit-image in /usr/local/lib/python3.10/dist-packages (0.23.2)\n",
            "Requirement already satisfied: numpy>=1.23 in /usr/local/lib/python3.10/dist-packages (from scikit-image) (1.26.4)\n",
            "Requirement already satisfied: scipy>=1.9 in /usr/local/lib/python3.10/dist-packages (from scikit-image) (1.13.1)\n",
            "Requirement already satisfied: networkx>=2.8 in /usr/local/lib/python3.10/dist-packages (from scikit-image) (3.3)\n",
            "Requirement already satisfied: pillow>=9.1 in /usr/local/lib/python3.10/dist-packages (from scikit-image) (9.4.0)\n",
            "Requirement already satisfied: imageio>=2.33 in /usr/local/lib/python3.10/dist-packages (from scikit-image) (2.34.2)\n",
            "Requirement already satisfied: tifffile>=2022.8.12 in /usr/local/lib/python3.10/dist-packages (from scikit-image) (2024.8.24)\n",
            "Requirement already satisfied: packaging>=21 in /usr/local/lib/python3.10/dist-packages (from scikit-image) (24.1)\n",
            "Requirement already satisfied: lazy-loader>=0.4 in /usr/local/lib/python3.10/dist-packages (from scikit-image) (0.4)\n",
            "最佳 Otsu 閾值： -0.024144531249999962\n"
          ]
        }
      ],
      "source": [
        "# 步驟 1：載入 .csv 檔案\n",
        "import pandas as pd\n",
        "\n",
        "# 假設你的 .csv 檔案名為 'data.csv' 並且放在你的 Google Drive 上\n",
        "from google.colab import drive\n",
        "drive.mount('/content/drive')\n",
        "\n",
        "# 載入 .csv 檔案\n",
        "file_path = '/content/drive/MyDrive/Gao.csv'  # 修改為你的檔案路徑\n",
        "data = pd.read_csv(file_path)\n",
        "\n",
        "# 步驟 2：安裝並導入所需的庫\n",
        "!pip install scikit-image\n",
        "from skimage.filters import threshold_otsu\n",
        "\n",
        "# 假設數據存儲在某一列，稱為 'column_name'\n",
        "values = data['Band Value'].values\n",
        "\n",
        "# 步驟 3：計算 Otsu 閾值\n",
        "otsu_threshold = threshold_otsu(values)\n",
        "\n",
        "# 顯示最佳閾值\n",
        "print(\"最佳 Otsu 閾值：\", otsu_threshold)\n"
      ]
    },
    {
      "cell_type": "code",
      "source": [],
      "metadata": {
        "id": "jfovW8Mqf5eL"
      },
      "execution_count": null,
      "outputs": []
    }
  ]
}