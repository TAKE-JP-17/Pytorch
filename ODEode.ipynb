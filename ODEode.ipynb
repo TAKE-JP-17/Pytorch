{
  "nbformat": 4,
  "nbformat_minor": 0,
  "metadata": {
    "colab": {
      "provenance": [],
      "authorship_tag": "ABX9TyPEiMLou49zbItxf+IpnEIR",
      "include_colab_link": true
    },
    "kernelspec": {
      "name": "python3",
      "display_name": "Python 3"
    },
    "language_info": {
      "name": "python"
    }
  },
  "cells": [
    {
      "cell_type": "markdown",
      "metadata": {
        "id": "view-in-github",
        "colab_type": "text"
      },
      "source": [
        "<a href=\"https://colab.research.google.com/github/TAKE-JP-17/Pytorch/blob/main/ODEode.ipynb\" target=\"_parent\"><img src=\"https://colab.research.google.com/assets/colab-badge.svg\" alt=\"Open In Colab\"/></a>"
      ]
    },
    {
      "cell_type": "code",
      "execution_count": null,
      "metadata": {
        "id": "3RmQIXkpsQmL"
      },
      "outputs": [],
      "source": [
        "import tensorflow as tf\n",
        "\n",
        "# Define the NN\n",
        "class PINN(tf.keras.Model):\n",
        "  super(PINN, self).__init__()\n",
        "  self.dense1 = tf.keras.layers.Dense(64, activation='tanh')\n",
        "  self.dense2 = tf.keras.layers.Dense(64, activation='tanh')\n",
        "  self.dense3 = tf.keras.layers.Dense(2, activation=None) # Output layer: [x(t), y(t)]\n",
        "\n",
        "  def call(self, t):\n",
        "    t = self.dense1(t)\n",
        "    t = self.dense2(t)\n",
        "    return = self.dense3(t)\n",
        "\n",
        "# Define the Loss Function\n",
        "def loss_fn(model, t):\n",
        "    with tf.GradientTape() as tape1, tf.GradientTape() as tape2:\n",
        "        tape1.watch(t)\n",
        "        tape2.watch(t)\n",
        "        output = model(t)\n",
        "        x = output[:, 0:1]\n",
        "        y = output[:, 1:2]\n",
        "\n",
        "        dx_dt = tape1.gradient(x, t)\n",
        "        dy_dt = tape2.gradient(y, t)\n",
        "\n",
        "        # Residuals from the ODEs\n",
        "        res_x = dx_dt - 2 * x + y\n",
        "        res_y = dy_dt - x + 2 * y\n",
        "\n",
        "        # Initial condition losses\n",
        "        init_loss_x = tf.square(x[0] - 1)\n",
        "        init_loss_y = tf.square(y[0] - 0)\n",
        "\n",
        "        # Total Loss\n",
        "        loss = tf.reduce_mean(tf.square(res_x)) + tf.reduce_mean(tf.square(res_y)) + init_loss_x + init_loss_y\n",
        "    return loss\n",
        "\n",
        "# Define training function\n",
        "def train(model, t, epochs, optimizer):\n",
        "  for epoch in range(epochs):\n",
        "    with tf.GradientTape() as tape:\n",
        "      loss = loss_fn(model, t)\n",
        "    grads = tape.gradient(loss, model.trainable_variables)\n",
        "    optimizer.apply_gradients(zip(grads, model.trainable_variables))\n",
        "    if epoch % 500 == 0:\n",
        "      print(f'Epoch {epoch}: Loss = {loss.numpy()}')\n",
        "\n",
        "# Create the model and optimizer\n",
        "model = PINN()\n",
        "optimizer = tf.keras.optimizers.Adam(learning_rate=0.001)\n",
        "\n",
        "# Training Domain\n",
        "t = tf.convert_to_tensor(np.linspace(0, 5, 100)[:, None], dtype=tf.float32)\n",
        "\n",
        "# Train the model\n",
        "train(model, t, epochs=10000, optimizer=optimizer)\n",
        "\n",
        "\n",
        "\n",
        "\n"
      ]
    }
  ]
}