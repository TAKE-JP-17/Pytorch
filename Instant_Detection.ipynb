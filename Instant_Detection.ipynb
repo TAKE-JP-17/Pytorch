{
  "nbformat": 4,
  "nbformat_minor": 0,
  "metadata": {
    "colab": {
      "provenance": [],
      "authorship_tag": "ABX9TyMpvRanmiCOwOnd55FFodsw",
      "include_colab_link": true
    },
    "kernelspec": {
      "name": "python3",
      "display_name": "Python 3"
    },
    "language_info": {
      "name": "python"
    }
  },
  "cells": [
    {
      "cell_type": "markdown",
      "metadata": {
        "id": "view-in-github",
        "colab_type": "text"
      },
      "source": [
        "<a href=\"https://colab.research.google.com/github/TAKE-JP-17/Pytorch/blob/main/Instant_Detection.ipynb\" target=\"_parent\"><img src=\"https://colab.research.google.com/assets/colab-badge.svg\" alt=\"Open In Colab\"/></a>"
      ]
    },
    {
      "cell_type": "code",
      "source": [
        "import ee\n",
        "import geemap\n",
        "import datetime\n",
        "import calendar\n",
        "import numpy as np\n",
        "import pandas as pd\n",
        "import matplotlib.pyplot as plt\n",
        "ee.Authenticate()\n",
        "ee.Initialize(project='ee-p66121061')\n",
        "map = geemap.Map()\n",
        "map"
      ],
      "metadata": {
        "id": "uxB6IsINVUJy"
      },
      "execution_count": null,
      "outputs": []
    },
    {
      "cell_type": "code",
      "execution_count": null,
      "metadata": {
        "id": "lhe1x-AbpS86"
      },
      "outputs": [],
      "source": [
        "# Compute Trend for the whole time series\n",
        "trend_mndwi = mndwi_collection.select(['system:time_start','mndwi_aoi']).reduce(ee.Reducer.linearFit())\n",
        "trend_ndvi = ndvi_collection.select(['system:time_start','ndvi_aoi']).reduce(ee.Reducer.linearFit())\n",
        "trend_ndbi = ndbi_collection.select(['system:time_start','ndbi_aoi']).reduce(ee.Reducer.linearFit())\n",
        "\n",
        "#MNDWI\n",
        "# 提取斜率\n",
        "slope_mndwi = trend_mndwi.select('scale')\n",
        "\n",
        "# 計算斜率的最小值和最大值\n",
        "min_slope_mndwi = ee.Number(slope_mndwi.reduceRegion(\n",
        "    reducer=ee.Reducer.min(),\n",
        "    geometry=shp,\n",
        "    scale=30,\n",
        "    maxPixels=1e13\n",
        ").get('scale'))\n",
        "\n",
        "max_slope_mndwi = ee.Number(slope_mndwi.reduceRegion(\n",
        "    reducer=ee.Reducer.max(),\n",
        "    geometry=shp,\n",
        "    scale=30,\n",
        "    maxPixels=1e13\n",
        ").get('scale'))\n",
        "\n",
        "# 正規化斜率到-1到1之間\n",
        "normalized_slope_mndwi = slope_mndwi.subtract(min_slope_mndwi).divide(max_slope_mndwi.subtract(min_slope_mndwi)).multiply(2).subtract(1).multiply(900)\n",
        "\n",
        "\n",
        "# 合成正規化後的趨勢影像\n",
        "normalized_trend_mndwi = trend_mndwi.addBands(normalized_slope_mndwi.rename('normalized_scale'), overwrite=True)\n",
        "\n",
        "# 可視化正規化後的趨勢圖\n",
        "map.addLayer(normalized_trend_mndwi, {'min': -900, 'max': 900, 'bands': ['normalized_scale'], 'palette': ['#d7191c','#fdae61','#ffffbf','#abd9e9','#2c7bb6']}, 'Normalized Trend_MNDWI')"
      ]
    },
    {
      "cell_type": "code",
      "source": [
        "#NDVI\n",
        "# 提取斜率\n",
        "slope_ndvi = trend_ndvi.select('scale')\n",
        "\n",
        "# 計算斜率的最小值和最大值\n",
        "min_slope_ndvi = ee.Number(slope_ndvi.reduceRegion(\n",
        "    reducer=ee.Reducer.min(),\n",
        "    geometry=shp,\n",
        "    scale=30,\n",
        "    maxPixels=1e13\n",
        ").get('scale'))\n",
        "\n",
        "max_slope_ndvi = ee.Number(slope_ndvi.reduceRegion(\n",
        "    reducer=ee.Reducer.max(),\n",
        "    geometry=shp,\n",
        "    scale=30,\n",
        "    maxPixels=1e13\n",
        ").get('scale'))\n",
        "\n",
        "# 正規化斜率到-1到1之間\n",
        "normalized_slope_ndvi = slope_ndvi.subtract(min_slope_ndvi).divide(max_slope_ndvi.subtract(min_slope_ndvi)).multiply(2).subtract(1).multiply(900)\n",
        "\n",
        "\n",
        "# 合成正規化後的趨勢影像\n",
        "normalized_trend_ndvi = trend_ndvi.addBands(normalized_slope_ndvi.rename('normalized_scale'), overwrite=True)\n",
        "\n",
        "# 可視化正規化後的趨勢圖\n",
        "map.addLayer(normalized_trend_ndvi, {'min': -900, 'max': 900, 'bands': ['normalized_scale'], 'palette': ['#d7191c','#fdae61','#ffffbf','#99B718','#66A000']}, 'Normalized Trend_NDVI')"
      ],
      "metadata": {
        "id": "XAJvaLffVVGA"
      },
      "execution_count": null,
      "outputs": []
    },
    {
      "cell_type": "code",
      "source": [
        "#NDBI\n",
        "# 提取斜率\n",
        "slope_ndbi = trend_ndbi.select('scale')\n",
        "\n",
        "# 計算斜率的最小值和最大值\n",
        "min_slope_ndbi = ee.Number(slope_ndbi.reduceRegion(\n",
        "    reducer=ee.Reducer.min(),\n",
        "    geometry=shp,\n",
        "    scale=30,\n",
        "    maxPixels=1e13\n",
        ").get('scale'))\n",
        "\n",
        "max_slope_ndbi = ee.Number(slope_ndbi.reduceRegion(\n",
        "    reducer=ee.Reducer.max(),\n",
        "    geometry=shp,\n",
        "    scale=30,\n",
        "    maxPixels=1e13\n",
        ").get('scale'))\n",
        "\n",
        "# 正規化斜率到-1到1之間\n",
        "normalized_slope_ndbi = slope_ndbi.subtract(min_slope_ndbi).divide(max_slope_ndbi.subtract(min_slope_ndbi)).multiply(2).subtract(1).multiply(900)\n",
        "\n",
        "\n",
        "# 合成正規化後的趨勢影像\n",
        "normalized_trend_ndbi = trend_ndbi.addBands(normalized_slope_ndbi.rename('normalized_scale'), overwrite=True)\n",
        "\n",
        "# 可視化正規化後的趨勢圖\n",
        "map.addLayer(normalized_trend_ndbi, {'min': -900, 'max': 900, 'bands': ['normalized_scale'], 'palette': ['#66A000','#99B718','#ffffbf','#fdae61','#d7191c']}, 'Normalized Trend_NDBI')"
      ],
      "metadata": {
        "id": "71FGOBV4VfXf"
      },
      "execution_count": null,
      "outputs": []
    },
    {
      "cell_type": "code",
      "source": [
        "import cv2\n",
        "import numpy as np\n",
        "import matplotlib.pyplot as plt\n",
        "import os\n",
        "\n",
        "# 設定檔案路徑與參數\n",
        "image_folder = 'your_image_folder'  # 放置影像的資料夾\n",
        "start_year = 2000\n",
        "end_year = 2019\n",
        "change_threshold = 30  # 設定變化閾值\n",
        "\n",
        "def process_image(image_path):\n",
        "    # 讀取影像並轉為灰度圖\n",
        "    image = cv2.imread(image_path)\n",
        "    gray_image = cv2.cvtColor(image, cv2.COLOR_BGR2GRAY)\n",
        "    return gray_image\n",
        "\n",
        "def detect_changes(img1, img2, threshold):\n",
        "    # 計算相鄰年份的圖像差異\n",
        "    diff = cv2.absdiff(img1, img2)\n",
        "    # 閾值處理：超過threshold的區域設為白色，其他區域設為黑色\n",
        "    _, binary_diff = cv2.threshold(diff, threshold, 255, cv2.THRESH_BINARY)\n",
        "    return binary_diff\n",
        "\n",
        "# 逐年處理影像\n",
        "for year in range(start_year, end_year):\n",
        "    img1_path = os.path.join(image_folder, f'year_{year}.jpg')\n",
        "    img2_path = os.path.join(image_folder, f'year_{year + 1}.jpg')\n",
        "\n",
        "    # 讀取相鄰兩年的影像\n",
        "    img1 = process_image(img1_path)\n",
        "    img2 = process_image(img2_path)\n",
        "\n",
        "    # 檢測變化\n",
        "    binary_diff = detect_changes(img1, img2, change_threshold)\n",
        "\n",
        "    # 顯示並儲存結果\n",
        "    plt.imshow(binary_diff, cmap='gray')\n",
        "    plt.title(f'Changes from {year} to {year + 1}')\n",
        "    plt.axis('off')\n",
        "    plt.show()\n",
        "\n",
        "    # 儲存變化的二值化影像\n",
        "    output_path = os.path.join(image_folder, f'change_{year}_{year+1}.jpg')\n",
        "    cv2.imwrite(output_path, binary_diff)"
      ],
      "metadata": {
        "id": "dvaiLQ_kVqKJ"
      },
      "execution_count": null,
      "outputs": []
    }
  ]
}