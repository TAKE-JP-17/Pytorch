{
  "nbformat": 4,
  "nbformat_minor": 0,
  "metadata": {
    "colab": {
      "provenance": [],
      "authorship_tag": "ABX9TyOSNFux+wuuz3DIbeoUtDdY",
      "include_colab_link": true
    },
    "kernelspec": {
      "name": "python3",
      "display_name": "Python 3"
    },
    "language_info": {
      "name": "python"
    }
  },
  "cells": [
    {
      "cell_type": "markdown",
      "metadata": {
        "id": "view-in-github",
        "colab_type": "text"
      },
      "source": [
        "<a href=\"https://colab.research.google.com/github/TAKE-JP-17/Pytorch/blob/main/Instant_Detection.ipynb\" target=\"_parent\"><img src=\"https://colab.research.google.com/assets/colab-badge.svg\" alt=\"Open In Colab\"/></a>"
      ]
    },
    {
      "cell_type": "code",
      "execution_count": null,
      "metadata": {
        "id": "lhe1x-AbpS86"
      },
      "outputs": [],
      "source": [
        "# Compute Trend for the whole time series\n",
        "trend_mndwi = mndwi_collection.select(['system:time_start','mndwi_aoi']).reduce(ee.Reducer.linearFit())\n",
        "trend_ndvi = ndvi_collection.select(['system:time_start','ndvi_aoi']).reduce(ee.Reducer.linearFit())\n",
        "trend_ndbi = ndbi_collection.select(['system:time_start','ndbi_aoi']).reduce(ee.Reducer.linearFit())\n",
        "\n",
        "#MNDWI\n",
        "# 提取斜率\n",
        "slope_mndwi = trend_mndwi.select('scale')\n",
        "\n",
        "# 計算斜率的最小值和最大值\n",
        "min_slope_mndwi = ee.Number(slope_mndwi.reduceRegion(\n",
        "    reducer=ee.Reducer.min(),\n",
        "    geometry=shp,\n",
        "    scale=30,\n",
        "    maxPixels=1e13\n",
        ").get('scale'))\n",
        "\n",
        "max_slope_mndwi = ee.Number(slope_mndwi.reduceRegion(\n",
        "    reducer=ee.Reducer.max(),\n",
        "    geometry=shp,\n",
        "    scale=30,\n",
        "    maxPixels=1e13\n",
        ").get('scale'))\n",
        "\n",
        "# 正規化斜率到-1到1之間\n",
        "normalized_slope_mndwi = slope_mndwi.subtract(min_slope_mndwi).divide(max_slope_mndwi.subtract(min_slope_mndwi)).multiply(2).subtract(1).multiply(900)\n",
        "\n",
        "\n",
        "# 合成正規化後的趨勢影像\n",
        "normalized_trend_mndwi = trend_mndwi.addBands(normalized_slope_mndwi.rename('normalized_scale'), overwrite=True)\n",
        "\n",
        "# 可視化正規化後的趨勢圖\n",
        "map.addLayer(normalized_trend_mndwi, {'min': -900, 'max': 900, 'bands': ['normalized_scale'], 'palette': ['#d7191c','#fdae61','#ffffbf','#abd9e9','#2c7bb6']}, 'Normalized Trend_MNDWI')"
      ]
    }
  ]
}