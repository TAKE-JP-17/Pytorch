{
  "nbformat": 4,
  "nbformat_minor": 0,
  "metadata": {
    "colab": {
      "provenance": [],
      "mount_file_id": "https://github.com/TAKE-JP-17/Pytorch/blob/main/GMM.ipynb",
      "authorship_tag": "ABX9TyNMKMGKOh3UbthkcbZpyw6O",
      "include_colab_link": true
    },
    "kernelspec": {
      "name": "python3",
      "display_name": "Python 3"
    },
    "language_info": {
      "name": "python"
    }
  },
  "cells": [
    {
      "cell_type": "markdown",
      "metadata": {
        "id": "view-in-github",
        "colab_type": "text"
      },
      "source": [
        "<a href=\"https://colab.research.google.com/github/TAKE-JP-17/Pytorch/blob/main/GMM.ipynb\" target=\"_parent\"><img src=\"https://colab.research.google.com/assets/colab-badge.svg\" alt=\"Open In Colab\"/></a>"
      ]
    },
    {
      "cell_type": "code",
      "source": [
        "# Step 1: 安裝所需的套件\n",
        "!pip install numpy pandas scikit-learn matplotlib\n",
        "\n",
        "# Step 2: 載入所需的函式庫\n",
        "import numpy as np\n",
        "import pandas as pd\n",
        "from sklearn.mixture import GaussianMixture\n",
        "import matplotlib.pyplot as plt\n",
        "\n",
        "# Step 3: 讀取 CSV 檔案\n",
        "# 將 'your_file.csv' 替換成你的 CSV 檔案名稱，或是上傳檔案後取得路徑\n",
        "data = pd.read_csv('/content/drive/MyDrive/NSH.csv')\n",
        "\n",
        "# 假設我們只對某一欄位進行 GMM 建模，請修改 'column_of_interest' 成你的欄位名稱\n",
        "X = data[['Band Value']].values\n",
        "\n",
        "# Step 4: 使用 Gaussian Mixture Model 進行建模\n",
        "# 這裡設置 2 個成分，因為我們想找出二值化的閾值\n",
        "gmm = GaussianMixture(n_components=2, covariance_type='full', random_state=42)\n",
        "gmm.fit(X)\n",
        "\n",
        "# Step 5: 找出兩個正態分佈的均值\n",
        "means = gmm.means_.flatten()\n",
        "print(\"兩個分佈的均值:\", means)\n",
        "\n",
        "# Step 6: 計算分界點（取兩個均值的中間值）\n",
        "threshold = np.mean(means)\n",
        "print(\"最佳分界閾值:\", threshold)\n",
        "\n",
        "# Step 7: 對資料進行二值化處理\n",
        "binary_data = (X > threshold).astype(int)\n",
        "\n",
        "# 新增二值化後的資料至原 DataFrame\n",
        "data['binary_column'] = binary_data\n",
        "\n",
        "# Step 8: 顯示結果\n",
        "print(data.head())\n",
        "\n",
        "# Step 9: 視覺化顯示\n",
        "plt.hist(X, bins=30, alpha=0.6, color='g')\n",
        "plt.axvline(threshold, color='r', linestyle='--', label=f'閾值: {threshold:.2f}')\n",
        "plt.legend()\n",
        "plt.show()\n"
      ],
      "metadata": {
        "colab": {
          "base_uri": "https://localhost:8080/",
          "height": 971
        },
        "id": "UQS6OOfTXleJ",
        "outputId": "af14bcad-5f26-4c80-cf09-1846056e35f8"
      },
      "execution_count": 8,
      "outputs": [
        {
          "output_type": "stream",
          "name": "stdout",
          "text": [
            "Requirement already satisfied: numpy in /usr/local/lib/python3.10/dist-packages (1.26.4)\n",
            "Requirement already satisfied: pandas in /usr/local/lib/python3.10/dist-packages (2.1.4)\n",
            "Requirement already satisfied: scikit-learn in /usr/local/lib/python3.10/dist-packages (1.3.2)\n",
            "Requirement already satisfied: matplotlib in /usr/local/lib/python3.10/dist-packages (3.7.1)\n",
            "Requirement already satisfied: python-dateutil>=2.8.2 in /usr/local/lib/python3.10/dist-packages (from pandas) (2.8.2)\n",
            "Requirement already satisfied: pytz>=2020.1 in /usr/local/lib/python3.10/dist-packages (from pandas) (2024.1)\n",
            "Requirement already satisfied: tzdata>=2022.1 in /usr/local/lib/python3.10/dist-packages (from pandas) (2024.1)\n",
            "Requirement already satisfied: scipy>=1.5.0 in /usr/local/lib/python3.10/dist-packages (from scikit-learn) (1.13.1)\n",
            "Requirement already satisfied: joblib>=1.1.1 in /usr/local/lib/python3.10/dist-packages (from scikit-learn) (1.4.2)\n",
            "Requirement already satisfied: threadpoolctl>=2.0.0 in /usr/local/lib/python3.10/dist-packages (from scikit-learn) (3.5.0)\n",
            "Requirement already satisfied: contourpy>=1.0.1 in /usr/local/lib/python3.10/dist-packages (from matplotlib) (1.3.0)\n",
            "Requirement already satisfied: cycler>=0.10 in /usr/local/lib/python3.10/dist-packages (from matplotlib) (0.12.1)\n",
            "Requirement already satisfied: fonttools>=4.22.0 in /usr/local/lib/python3.10/dist-packages (from matplotlib) (4.53.1)\n",
            "Requirement already satisfied: kiwisolver>=1.0.1 in /usr/local/lib/python3.10/dist-packages (from matplotlib) (1.4.7)\n",
            "Requirement already satisfied: packaging>=20.0 in /usr/local/lib/python3.10/dist-packages (from matplotlib) (24.1)\n",
            "Requirement already satisfied: pillow>=6.2.0 in /usr/local/lib/python3.10/dist-packages (from matplotlib) (9.4.0)\n",
            "Requirement already satisfied: pyparsing>=2.3.1 in /usr/local/lib/python3.10/dist-packages (from matplotlib) (3.1.4)\n",
            "Requirement already satisfied: six>=1.5 in /usr/local/lib/python3.10/dist-packages (from python-dateutil>=2.8.2->pandas) (1.16.0)\n",
            "兩個分佈的均值: [-1.51586664 -0.1950955 ]\n",
            "最佳分界閾值: -0.8554810727413336\n",
            "   Band Value awei Count  binary_column\n",
            "0      -2.219          2              0\n",
            "1      -2.203        NaN              0\n",
            "2      -2.188        NaN              0\n",
            "3      -2.172          1              0\n",
            "4      -2.156          3              0\n"
          ]
        },
        {
          "output_type": "stream",
          "name": "stderr",
          "text": [
            "/usr/local/lib/python3.10/dist-packages/IPython/core/pylabtools.py:151: UserWarning: Glyph 38334 (\\N{CJK UNIFIED IDEOGRAPH-95BE}) missing from current font.\n",
            "  fig.canvas.print_figure(bytes_io, **kw)\n",
            "/usr/local/lib/python3.10/dist-packages/IPython/core/pylabtools.py:151: UserWarning: Glyph 20540 (\\N{CJK UNIFIED IDEOGRAPH-503C}) missing from current font.\n",
            "  fig.canvas.print_figure(bytes_io, **kw)\n"
          ]
        },
        {
          "output_type": "display_data",
          "data": {
            "text/plain": [
              "<Figure size 640x480 with 1 Axes>"
            ],
            "image/png": "[encoded data removed]"
          },
          "metadata": {}
        }
      ]
    },
    {
      "cell_type": "code",
      "source": [
        "from google.colab import drive\n",
        "drive.mount('/content/drive')"
      ],
      "metadata": {
        "id": "RgMQbZeHVxEI",
        "outputId": "e46b759d-a929-47e7-9dc8-8e5ed66c102f",
        "colab": {
          "base_uri": "https://localhost:8080/"
        }
      },
      "execution_count": 3,
      "outputs": [
        {
          "output_type": "stream",
          "name": "stdout",
          "text": [
            "Drive already mounted at /content/drive; to attempt to forcibly remount, call drive.mount(\"/content/drive\", force_remount=True).\n"
          ]
        }
      ]
    }
  ]
}