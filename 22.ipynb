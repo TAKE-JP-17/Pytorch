{
  "nbformat": 4,
  "nbformat_minor": 0,
  "metadata": {
    "colab": {
      "provenance": [],
      "authorship_tag": "ABX9TyNm1kQpWZZKATu06MIoF3ma",
      "include_colab_link": true
    },
    "kernelspec": {
      "name": "python3",
      "display_name": "Python 3"
    },
    "language_info": {
      "name": "python"
    }
  },
  "cells": [
    {
      "cell_type": "markdown",
      "metadata": {
        "id": "view-in-github",
        "colab_type": "text"
      },
      "source": [
        "<a href=\"https://colab.research.google.com/github/TAKE-JP-17/Pytorch/blob/main/22.ipynb\" target=\"_parent\"><img src=\"https://colab.research.google.com/assets/colab-badge.svg\" alt=\"Open In Colab\"/></a>"
      ]
    },
    {
      "cell_type": "code",
      "execution_count": null,
      "metadata": {
        "id": "e59IE24knCII"
      },
      "outputs": [],
      "source": [
        "# Install Earth Engine API\n",
        "!pip install earthengine-api\n",
        "\n",
        "# Authenticate and initialize GEE\n",
        "import ee\n",
        "from google.colab import auth\n",
        "auth.authenticate_user()\n",
        "\n",
        "# Initialize Earth Engine\n",
        "ee.Initialize()"
      ]
    },
    {
      "cell_type": "code",
      "source": [
        "# Define a region (replace with Tainan City geometry)\n",
        "geometry = ee.Geometry.Polygon([\n",
        "  [[120.0093, 22.7373], [120.3001, 22.7373],\n",
        "   [120.3001, 23.3308], [120.0093, 23.3308],\n",
        "   [120.0093, 22.7373]]\n",
        "])"
      ],
      "metadata": {
        "id": "M8VEX_sEnHun"
      },
      "execution_count": null,
      "outputs": []
    },
    {
      "cell_type": "code",
      "source": [
        "def calculate_mndwi(image):\n",
        "    mndwi = image.normalizedDifference(['GREEN', 'SWIR1']).rename('MNDWI')\n",
        "    return image.addBands(mndwi)"
      ],
      "metadata": {
        "id": "zcuGUhsf0eMn"
      },
      "execution_count": null,
      "outputs": []
    },
    {
      "cell_type": "code",
      "source": [
        "def get_annual_image(year):\n",
        "    # Load the Landsat image collection for the specified year\n",
        "    collection = ee.ImageCollection('LANDSAT/LC08/C01/T1_SR') \\\n",
        "                .filterDate(f'{year}-01-01', f'{year}-12-31') \\\n",
        "                .filterBounds(tainan) \\\n",
        "                .map(calculate_mndwi) \\\n",
        "                .median()\n",
        "\n",
        "    return collection.clip(tainan).select('MNDWI')"
      ],
      "metadata": {
        "id": "1IseBfKw0m6V"
      },
      "execution_count": null,
      "outputs": []
    },
    {
      "cell_type": "code",
      "source": [
        "def create_binary_mndwi(image, threshold=0):\n",
        "    return image.gt(threshold).rename('binary_MNDWI')"
      ],
      "metadata": {
        "id": "2giJkqan0oUc"
      },
      "execution_count": null,
      "outputs": []
    },
    {
      "cell_type": "code",
      "source": [
        "# Define the range of years\n",
        "years = list(range(2000, 2023))  # This will give you 23 years (2000 to 2022)\n",
        "\n",
        "# Initialize an empty list to store the images\n",
        "images = []\n",
        "\n",
        "# Loop through each year and get the July image\n",
        "for year in years:\n",
        "    july_image = get_july_image(year)\n",
        "    images.append(july_image)  # Store each image in the list\n",
        "\n",
        "# Now you have 23 images (one for each year from 2000 to 2022) stored in the 'images' list\n",
        "\n",
        "for i, year in enumerate(years):\n",
        "    july_image = images[i]  # Retrieve the image from the list\n",
        "    task = ee.batch.Export.image.toDrive(**{\n",
        "        'image': july_image,\n",
        "        'description': f'July_MNDWI_{year}',\n",
        "        'scale': 30,\n",
        "        'region': tainan,\n",
        "        'maxPixels': 1e9\n",
        "    })\n",
        "    task.start()\n"
      ],
      "metadata": {
        "id": "OLIKAr371HzT"
      },
      "execution_count": null,
      "outputs": []
    },
    {
      "cell_type": "code",
      "source": [
        "def detect_change(mndwi_current, mndwi_next, threshold=0.2):\n",
        "    # Calculate the difference between consecutive years\n",
        "    mndwi_diff = mndwi_next.subtract(mndwi_current).abs()\n",
        "\n",
        "    # Classify change based on the threshold\n",
        "    land_to_water = mndwi_diff.gt(threshold).And(mndwi_next.lt(mndwi_current))\n",
        "    water_to_land = mndwi_diff.gt(threshold).And(mndwi_next.gt(mndwi_current))\n",
        "\n",
        "    # Generate a change map: 1 = land to water (red), -1 = water to land (blue), 0 = no change (black)\n",
        "    change_map = land_to_water.multiply(1).add(water_to_land.multiply(-1))\n",
        "    return change_map"
      ],
      "metadata": {
        "id": "Olma3tiA0xBu"
      },
      "execution_count": null,
      "outputs": []
    },
    {
      "cell_type": "code",
      "source": [
        "years = list(range(2000, 2023))\n",
        "\n",
        "# Store the yearly MNDWI maps\n",
        "mndwi_maps = [get_july_image(year) for year in years]\n",
        "\n",
        "# Detect changes between consecutive years\n",
        "change_maps = []\n",
        "for i in range(len(mndwi_maps) - 1):\n",
        "    change = detect_change(mndwi_maps[i], mndwi_maps[i+1])\n",
        "    change_maps.append(change)"
      ],
      "metadata": {
        "id": "RAMxUbyO01FH"
      },
      "execution_count": null,
      "outputs": []
    },
    {
      "cell_type": "code",
      "source": [
        "# Example visualization parameters\n",
        "viz_params = {\n",
        "    'min': -1,\n",
        "    'max': 1,\n",
        "    'palette': ['0000FF', '000000', 'FF0000']  # Blue, Black, Red\n",
        "}\n",
        "\n",
        "# Visualize a change map (e.g., between 2000 and 2001)\n",
        "import folium\n",
        "map_ = folium.Map(location=[23.0, 120.25], zoom_start=10)\n",
        "map_.add_ee_layer(change_maps[0], viz_params, 'Change Map 2000-2001')\n",
        "map_"
      ],
      "metadata": {
        "id": "HdnAezq304cP"
      },
      "execution_count": null,
      "outputs": []
    },
    {
      "cell_type": "code",
      "source": [
        "export_task = ee.batch.Export.image.toDrive(**{\n",
        "    'image': change_maps[0],\n",
        "    'description': 'MNDWI_change_2000_2001',\n",
        "    'scale': 30,\n",
        "    'region': tainan,\n",
        "    'maxPixels': 1e9\n",
        "})\n",
        "export_task.start()"
      ],
      "metadata": {
        "id": "-F-_JwFc07Oq"
      },
      "execution_count": null,
      "outputs": []
    }
  ]
}