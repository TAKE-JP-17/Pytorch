{
  "nbformat": 4,
  "nbformat_minor": 0,
  "metadata": {
    "colab": {
      "provenance": [],
      "authorship_tag": "ABX9TyPgTrBjY0Zy3gJcnLdUvm57",
      "include_colab_link": true
    },
    "kernelspec": {
      "name": "python3",
      "display_name": "Python 3"
    },
    "language_info": {
      "name": "python"
    }
  },
  "cells": [
    {
      "cell_type": "markdown",
      "metadata": {
        "id": "view-in-github",
        "colab_type": "text"
      },
      "source": [
        "<a href=\"https://colab.research.google.com/github/TAKE-JP-17/Pytorch/blob/main/Oscillator.ipynb\" target=\"_parent\"><img src=\"https://colab.research.google.com/assets/colab-badge.svg\" alt=\"Open In Colab\"/></a>"
      ]
    },
    {
      "cell_type": "code",
      "execution_count": null,
      "metadata": {
        "id": "JIkhMpIdu8e3"
      },
      "outputs": [],
      "source": [
        "import torch\n",
        "import torch.nn as nn\n",
        "import numpy as np\n",
        "import matplotlib.pyplot as plt"
      ]
    },
    {
      "cell_type": "code",
      "source": [
        "def exact_solution(d, w0, t):\n",
        "  \"Define the analytical solution to the under-damped harmonic oscillator problem above.\"\n",
        "  assert d < w0\n",
        "  w = np.sqrt(w0**2-d**2)\n",
        "  phi = np.arctan(-d/w)\n",
        "  A = 1/(2*np.cos(phi))\n",
        "  cos = torch.cos(phi+w*t)\n",
        "  exp = torch.exp(-d*t)\n",
        "  u = exp*2*A*cos\n",
        "  return u\n",
        "\n",
        "class FCN(nn.Module):\n",
        "  \"Define a standard fully-connected network in PyTorch\"\n",
        "\n",
        "  def __init__(self, N_INPUT, N_OUTPUT, N_HIDDEN, N_LAYERS):\n",
        "    super().__init__()\n",
        "    activation = nn.Tanh\n",
        "    self.fcs = nn.Sequential(*[\n",
        "             nn.Linear(N_INPUT, N_HIDDEN),\n",
        "             activation()])\n",
        "    self.fch = nn.Sequential(*[\n",
        "             nn.Sequential(*[\n",
        "                nn.Linear(N_HIDDEN, N_HIDDEN),\n",
        "                activation()]) for _ in range(N_LAYERS-1)])\n",
        "    self.fce = nn.Linear(N_HIDDEN, N_OUTPUT)\n",
        "\n",
        "  def forward(self, x):\n",
        "    x = self.fcs(x)\n",
        "    x = self.fch(x)\n",
        "    x = self.fce(x)\n",
        "    return x"
      ],
      "metadata": {
        "id": "CzZjSPOL6v9A"
      },
      "execution_count": null,
      "outputs": []
    },
    {
      "cell_type": "markdown",
      "source": [
        "Loss Function"
      ],
      "metadata": {
        "id": "D9F5xDDbFYH2"
      }
    },
    {
      "cell_type": "code",
      "source": [],
      "metadata": {
        "id": "2-A-qF-kExUU"
      },
      "execution_count": null,
      "outputs": []
    },
    {
      "cell_type": "code",
      "source": [],
      "metadata": {
        "id": "SWAGRGtcExTK"
      },
      "execution_count": null,
      "outputs": []
    }
  ]
}