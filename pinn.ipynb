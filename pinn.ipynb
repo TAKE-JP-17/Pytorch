{
  "nbformat": 4,
  "nbformat_minor": 0,
  "metadata": {
    "colab": {
      "provenance": [],
      "authorship_tag": "ABX9TyP8yHwSBvitc6opsXFcu7sY",
      "include_colab_link": true
    },
    "kernelspec": {
      "name": "python3",
      "display_name": "Python 3"
    },
    "language_info": {
      "name": "python"
    }
  },
  "cells": [
    {
      "cell_type": "markdown",
      "metadata": {
        "id": "view-in-github",
        "colab_type": "text"
      },
      "source": [
        "<a href=\"https://colab.research.google.com/github/TAKE-JP-17/Pytorch/blob/main/pinn.ipynb\" target=\"_parent\"><img src=\"https://colab.research.google.com/assets/colab-badge.svg\" alt=\"Open In Colab\"/></a>"
      ]
    },
    {
      "cell_type": "code",
      "execution_count": 1,
      "metadata": {
        "id": "4HQ0eclz3xdJ"
      },
      "outputs": [],
      "source": [
        "import tensorflow as tf\n",
        "import numpy as np\n",
        "import matplotlib.pyplot as plt\n",
        "\n",
        "# Some plot settings\n",
        "plt.close('all')\n",
        "plt.rcParams['font.family']= 'serif'\n",
        "plt.rcParams['font.serif']= 'Times New Roman'\n",
        "plt.rcParams['font.size']= 10\n",
        "plt.rcParams['figure.dpi']= 100"
      ]
    },
    {
      "cell_type": "code",
      "source": [
        "# Define the neural network model\n",
        "# create_model() - This function defines and returns a dictionary representing a NN model. within the dictionary the keys are the layer names and the values are the corresponding Dense layers.\n",
        "\n",
        "def create_model():\n",
        "  model = {\n",
        "      'dense1': tf.keras.layers.Dense(50, activation='tanh'),\n",
        "      'dense2': tf.keras.layers.Dense(50, activation='tanh'),\n",
        "      'dense3': tf.keras.layers.Dense(50, activation='tanh'),\n",
        "      'output_layer': tf.keras.layers.Dense(1)\n",
        "  }\n",
        "  return model\n",
        "\n",
        "# call_model - This function defines the forward pass of the NN. It takes as input a dictionary model (created by create_model()) and an input tensor x.\n",
        "\n",
        "def call_model(model,x):\n",
        "  x = model['dense1'](x)\n",
        "  x = model['dense2'](x)\n",
        "  x = model['dense3'](x)\n",
        "  x = model['output_layer'](x)\n",
        "  return x\n",
        "\n",
        "# model = create_model()\n",
        "# print(model)\n"
      ],
      "metadata": {
        "id": "oLNYJl-NIyGo"
      },
      "execution_count": 2,
      "outputs": []
    },
    {
      "cell_type": "code",
      "source": [
        "# Define the differential equation using tf.GradientTape\n",
        "def pde(x, model):\n",
        "  with tf.GradientTape(persistent=True) as tape:\n",
        "    tape.watch(x)\n",
        "    y_pred = call_model(model, x)\n",
        "    y_x = tape.gradient(y_pred, x)\n",
        "  y_xx = tape.gradient(y_x, x)\n",
        "  del tape\n",
        "  return y_xx + np.pi**2 * tf.sin(np.pi * x)"
      ],
      "metadata": {
        "id": "y5wifEmbO9xV"
      },
      "execution_count": 3,
      "outputs": []
    },
    {
      "cell_type": "code",
      "source": [
        "# Define the loss function\n",
        "def loss(model, x, x_bc, y_bc):\n",
        "  res = pde(x, model)\n",
        "  # Compute the mean squared error of the boundary conditions\n",
        "  loss_pde = tf.reduce_mean(tf.square(res))\n",
        "  y_bc_pred = call_model(model, x_bc)\n",
        "  # Compute the mean squared error of the boundary conditions\n",
        "  loss_bc = tf.reduce_mean(tf.square(y_bc - y_bc_pred))\n",
        "  return loss_pde + loss_bc"
      ],
      "metadata": {
        "id": "d6JzI3IAO9wO"
      },
      "execution_count": 4,
      "outputs": []
    },
    {
      "cell_type": "code",
      "source": [
        "# Define the training step\n",
        "def train_step(model, x, x_bc, y_bc, optimizer):\n",
        "  with tf.GradientTape() as tape:\n",
        "    loss_value = loss(model, x, x_bc, y_bc)\n",
        "  grads = tape.gradient(loss_value, [layer.trainable_variables for layer in model.values()])\n",
        "  # Flatten the list of trainable variables\n",
        "  grads = [var for sublist in grads for var in sublist]\n",
        "  variables = [var for layer in model.values() for var in layer.trainable_variables]\n",
        "  optimizer.apply_gradients(zip(grads, variables))\n",
        "  return loss_value"
      ],
      "metadata": {
        "id": "btbq0mecRJn4"
      },
      "execution_count": 5,
      "outputs": []
    },
    {
      "cell_type": "code",
      "source": [
        "# Setting up the problem\n",
        "\n",
        "# Generate training data\n",
        "x_train = np.linspace(-1, 1, 100).reshape(-1, 1)\n",
        "x_train = tf.convert_to_tensor(x_train, dtype=tf.float32)\n",
        "\n",
        "# Boundary data\n",
        "x_bc = np.array([[-1.0],[1.0]], dtype=np.float32)\n",
        "y_bc = np.array([[0.0],[0.0]], dtype=np.float32)\n",
        "x_bc = tf.convert_to_tensor(x_bc, dtype=tf.float32)\n",
        "y_bc = tf.convert_to_tensor(y_bc, dtype=tf.float32)\n",
        "\n",
        "# Define the PINN model\n",
        "model = create_model()\n",
        "\n",
        "# Define the optimizer with a learning rate scheduler\n",
        "lr_schedule = tf.keras.optimizers.schedules.ExponentialDecay(\n",
        "    initial_learning_rate=1e-3,\n",
        "    decay_steps=1000,\n",
        "    decay_rate=0.9\n",
        ")\n",
        "optimizer = tf.keras.optimizers.Adam(learning_rate=lr_schedule)\n",
        "\n",
        "# Train the model\n",
        "epochs = 2000\n",
        "for epoch in range(epochs):\n",
        "  loss_value = train_step(model, x_train, x_bc, y_bc, optimizer)\n",
        "  if epoch % 1000 == 0:\n",
        "    print(f\"Epoch {epoch}: Loss = {loss_value.numpy()}\")"
      ],
      "metadata": {
        "id": "k2JGKWFlR1Uj",
        "outputId": "4c2a15bc-e0d3-4806-96fc-9356f36e40da",
        "colab": {
          "base_uri": "https://localhost:8080/"
        }
      },
      "execution_count": 6,
      "outputs": [
        {
          "output_type": "stream",
          "name": "stderr",
          "text": [
            "WARNING:tensorflow:Calling GradientTape.gradient on a persistent tape inside its context is significantly less efficient than calling it outside the context (it causes the gradient ops to be recorded on the tape, leading to increased CPU and memory usage). Only call GradientTape.gradient inside the context if you actually want to trace the gradient in order to compute higher order derivatives.\n"
          ]
        },
        {
          "output_type": "stream",
          "name": "stdout",
          "text": [
            "Epoch 0: Loss = 47.78607940673828\n",
            "Epoch 1000: Loss = 0.0011894560884684324\n"
          ]
        }
      ]
    },
    {
      "cell_type": "code",
      "source": [
        "# Predict the solution\n",
        "x_test = np.linspace(-1, 1, 1000).reshape(-1, 1)\n",
        "x_test = tf.convert_to_tensor(x_test, dtype=tf.float32)\n",
        "y_pred = call_model(model, x_test).numpy()\n",
        "\n",
        "# Analytical solution\n",
        "y_true = np.sin(np.pi * x_test)"
      ],
      "metadata": {
        "id": "vw0qD29zY8tN"
      },
      "execution_count": 7,
      "outputs": []
    },
    {
      "cell_type": "code",
      "source": [
        "# Plot the results\n",
        "plt.figure(figsize=(5, 3))\n",
        "plt.plot(x_test, y_true, 'b-',label='Analytical Solution')\n",
        "plt.plot(x_test, y_pred, 'r--', label='PINN Solution')\n",
        "plt.xlabel('x')\n",
        "plt.ylabel('y')\n",
        "plt.legend()\n",
        "plt.title('Comparison of Analytical Solution and PINN Solution')\n",
        "plt.show()"
      ],
      "metadata": {
        "id": "GVokzyyIZeLP",
        "outputId": "c2e29262-9626-417e-e4d2-b89d4b9c1d54",
        "colab": {
          "base_uri": "https://localhost:8080/",
          "height": 1000
        }
      },
      "execution_count": 8,
      "outputs": [
        {
          "output_type": "stream",
          "name": "stderr",
          "text": [
            "WARNING:matplotlib.font_manager:findfont: Generic family 'serif' not found because none of the following families were found: Times New Roman\n",
            "WARNING:matplotlib.font_manager:findfont: Generic family 'serif' not found because none of the following families were found: Times New Roman\n",
            "WARNING:matplotlib.font_manager:findfont: Generic family 'serif' not found because none of the following families were found: Times New Roman\n",
            "WARNING:matplotlib.font_manager:findfont: Generic family 'serif' not found because none of the following families were found: Times New Roman\n",
            "WARNING:matplotlib.font_manager:findfont: Generic family 'serif' not found because none of the following families were found: Times New Roman\n",
            "WARNING:matplotlib.font_manager:findfont: Generic family 'serif' not found because none of the following families were found: Times New Roman\n",
            "WARNING:matplotlib.font_manager:findfont: Generic family 'serif' not found because none of the following families were found: Times New Roman\n",
            "WARNING:matplotlib.font_manager:findfont: Generic family 'serif' not found because none of the following families were found: Times New Roman\n",
            "WARNING:matplotlib.font_manager:findfont: Generic family 'serif' not found because none of the following families were found: Times New Roman\n",
            "WARNING:matplotlib.font_manager:findfont: Generic family 'serif' not found because none of the following families were found: Times New Roman\n",
            "WARNING:matplotlib.font_manager:findfont: Generic family 'serif' not found because none of the following families were found: Times New Roman\n",
            "WARNING:matplotlib.font_manager:findfont: Generic family 'serif' not found because none of the following families were found: Times New Roman\n",
            "WARNING:matplotlib.font_manager:findfont: Generic family 'serif' not found because none of the following families were found: Times New Roman\n",
            "WARNING:matplotlib.font_manager:findfont: Generic family 'serif' not found because none of the following families were found: Times New Roman\n",
            "WARNING:matplotlib.font_manager:findfont: Generic family 'serif' not found because none of the following families were found: Times New Roman\n",
            "WARNING:matplotlib.font_manager:findfont: Generic family 'serif' not found because none of the following families were found: Times New Roman\n",
            "WARNING:matplotlib.font_manager:findfont: Generic family 'serif' not found because none of the following families were found: Times New Roman\n",
            "WARNING:matplotlib.font_manager:findfont: Generic family 'serif' not found because none of the following families were found: Times New Roman\n",
            "WARNING:matplotlib.font_manager:findfont: Generic family 'serif' not found because none of the following families were found: Times New Roman\n",
            "WARNING:matplotlib.font_manager:findfont: Generic family 'serif' not found because none of the following families were found: Times New Roman\n",
            "WARNING:matplotlib.font_manager:findfont: Generic family 'serif' not found because none of the following families were found: Times New Roman\n",
            "WARNING:matplotlib.font_manager:findfont: Generic family 'serif' not found because none of the following families were found: Times New Roman\n",
            "WARNING:matplotlib.font_manager:findfont: Generic family 'serif' not found because none of the following families were found: Times New Roman\n",
            "WARNING:matplotlib.font_manager:findfont: Generic family 'serif' not found because none of the following families were found: Times New Roman\n",
            "WARNING:matplotlib.font_manager:findfont: Generic family 'serif' not found because none of the following families were found: Times New Roman\n",
            "WARNING:matplotlib.font_manager:findfont: Generic family 'serif' not found because none of the following families were found: Times New Roman\n",
            "WARNING:matplotlib.font_manager:findfont: Generic family 'serif' not found because none of the following families were found: Times New Roman\n",
            "WARNING:matplotlib.font_manager:findfont: Generic family 'serif' not found because none of the following families were found: Times New Roman\n",
            "WARNING:matplotlib.font_manager:findfont: Generic family 'serif' not found because none of the following families were found: Times New Roman\n",
            "WARNING:matplotlib.font_manager:findfont: Generic family 'serif' not found because none of the following families were found: Times New Roman\n",
            "WARNING:matplotlib.font_manager:findfont: Generic family 'serif' not found because none of the following families were found: Times New Roman\n",
            "WARNING:matplotlib.font_manager:findfont: Generic family 'serif' not found because none of the following families were found: Times New Roman\n",
            "WARNING:matplotlib.font_manager:findfont: Generic family 'serif' not found because none of the following families were found: Times New Roman\n",
            "WARNING:matplotlib.font_manager:findfont: Generic family 'serif' not found because none of the following families were found: Times New Roman\n",
            "WARNING:matplotlib.font_manager:findfont: Generic family 'serif' not found because none of the following families were found: Times New Roman\n",
            "WARNING:matplotlib.font_manager:findfont: Generic family 'serif' not found because none of the following families were found: Times New Roman\n",
            "WARNING:matplotlib.font_manager:findfont: Generic family 'serif' not found because none of the following families were found: Times New Roman\n",
            "WARNING:matplotlib.font_manager:findfont: Generic family 'serif' not found because none of the following families were found: Times New Roman\n",
            "WARNING:matplotlib.font_manager:findfont: Generic family 'serif' not found because none of the following families were found: Times New Roman\n",
            "WARNING:matplotlib.font_manager:findfont: Generic family 'serif' not found because none of the following families were found: Times New Roman\n",
            "WARNING:matplotlib.font_manager:findfont: Generic family 'serif' not found because none of the following families were found: Times New Roman\n",
            "WARNING:matplotlib.font_manager:findfont: Generic family 'serif' not found because none of the following families were found: Times New Roman\n",
            "WARNING:matplotlib.font_manager:findfont: Generic family 'serif' not found because none of the following families were found: Times New Roman\n",
            "WARNING:matplotlib.font_manager:findfont: Generic family 'serif' not found because none of the following families were found: Times New Roman\n",
            "WARNING:matplotlib.font_manager:findfont: Generic family 'serif' not found because none of the following families were found: Times New Roman\n",
            "WARNING:matplotlib.font_manager:findfont: Generic family 'serif' not found because none of the following families were found: Times New Roman\n",
            "WARNING:matplotlib.font_manager:findfont: Generic family 'serif' not found because none of the following families were found: Times New Roman\n",
            "WARNING:matplotlib.font_manager:findfont: Generic family 'serif' not found because none of the following families were found: Times New Roman\n",
            "WARNING:matplotlib.font_manager:findfont: Generic family 'serif' not found because none of the following families were found: Times New Roman\n",
            "WARNING:matplotlib.font_manager:findfont: Generic family 'serif' not found because none of the following families were found: Times New Roman\n",
            "WARNING:matplotlib.font_manager:findfont: Generic family 'serif' not found because none of the following families were found: Times New Roman\n",
            "WARNING:matplotlib.font_manager:findfont: Generic family 'serif' not found because none of the following families were found: Times New Roman\n",
            "WARNING:matplotlib.font_manager:findfont: Generic family 'serif' not found because none of the following families were found: Times New Roman\n",
            "WARNING:matplotlib.font_manager:findfont: Generic family 'serif' not found because none of the following families were found: Times New Roman\n",
            "WARNING:matplotlib.font_manager:findfont: Generic family 'serif' not found because none of the following families were found: Times New Roman\n",
            "WARNING:matplotlib.font_manager:findfont: Generic family 'serif' not found because none of the following families were found: Times New Roman\n",
            "WARNING:matplotlib.font_manager:findfont: Generic family 'serif' not found because none of the following families were found: Times New Roman\n",
            "WARNING:matplotlib.font_manager:findfont: Generic family 'serif' not found because none of the following families were found: Times New Roman\n",
            "WARNING:matplotlib.font_manager:findfont: Generic family 'serif' not found because none of the following families were found: Times New Roman\n",
            "WARNING:matplotlib.font_manager:findfont: Generic family 'serif' not found because none of the following families were found: Times New Roman\n",
            "WARNING:matplotlib.font_manager:findfont: Generic family 'serif' not found because none of the following families were found: Times New Roman\n",
            "WARNING:matplotlib.font_manager:findfont: Generic family 'serif' not found because none of the following families were found: Times New Roman\n",
            "WARNING:matplotlib.font_manager:findfont: Generic family 'serif' not found because none of the following families were found: Times New Roman\n",
            "WARNING:matplotlib.font_manager:findfont: Generic family 'serif' not found because none of the following families were found: Times New Roman\n",
            "WARNING:matplotlib.font_manager:findfont: Generic family 'serif' not found because none of the following families were found: Times New Roman\n",
            "WARNING:matplotlib.font_manager:findfont: Generic family 'serif' not found because none of the following families were found: Times New Roman\n",
            "WARNING:matplotlib.font_manager:findfont: Generic family 'serif' not found because none of the following families were found: Times New Roman\n",
            "WARNING:matplotlib.font_manager:findfont: Generic family 'serif' not found because none of the following families were found: Times New Roman\n",
            "WARNING:matplotlib.font_manager:findfont: Generic family 'serif' not found because none of the following families were found: Times New Roman\n",
            "WARNING:matplotlib.font_manager:findfont: Generic family 'serif' not found because none of the following families were found: Times New Roman\n",
            "WARNING:matplotlib.font_manager:findfont: Generic family 'serif' not found because none of the following families were found: Times New Roman\n",
            "WARNING:matplotlib.font_manager:findfont: Generic family 'serif' not found because none of the following families were found: Times New Roman\n",
            "WARNING:matplotlib.font_manager:findfont: Generic family 'serif' not found because none of the following families were found: Times New Roman\n",
            "WARNING:matplotlib.font_manager:findfont: Generic family 'serif' not found because none of the following families were found: Times New Roman\n",
            "WARNING:matplotlib.font_manager:findfont: Generic family 'serif' not found because none of the following families were found: Times New Roman\n",
            "WARNING:matplotlib.font_manager:findfont: Generic family 'serif' not found because none of the following families were found: Times New Roman\n",
            "WARNING:matplotlib.font_manager:findfont: Generic family 'serif' not found because none of the following families were found: Times New Roman\n",
            "WARNING:matplotlib.font_manager:findfont: Generic family 'serif' not found because none of the following families were found: Times New Roman\n",
            "WARNING:matplotlib.font_manager:findfont: Generic family 'serif' not found because none of the following families were found: Times New Roman\n",
            "WARNING:matplotlib.font_manager:findfont: Generic family 'serif' not found because none of the following families were found: Times New Roman\n",
            "WARNING:matplotlib.font_manager:findfont: Generic family 'serif' not found because none of the following families were found: Times New Roman\n",
            "WARNING:matplotlib.font_manager:findfont: Generic family 'serif' not found because none of the following families were found: Times New Roman\n",
            "WARNING:matplotlib.font_manager:findfont: Generic family 'serif' not found because none of the following families were found: Times New Roman\n",
            "WARNING:matplotlib.font_manager:findfont: Generic family 'serif' not found because none of the following families were found: Times New Roman\n",
            "WARNING:matplotlib.font_manager:findfont: Generic family 'serif' not found because none of the following families were found: Times New Roman\n",
            "WARNING:matplotlib.font_manager:findfont: Generic family 'serif' not found because none of the following families were found: Times New Roman\n",
            "WARNING:matplotlib.font_manager:findfont: Generic family 'serif' not found because none of the following families were found: Times New Roman\n"
          ]
        },
        {
          "output_type": "display_data",
          "data": {
            "text/plain": [
              "<Figure size 500x300 with 1 Axes>"
            ],
            "image/png": "[encoded data removed]"
          },
          "metadata": {}
        }
      ]
    }
  ]
}