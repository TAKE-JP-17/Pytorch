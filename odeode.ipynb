{
  "nbformat": 4,
  "nbformat_minor": 0,
  "metadata": {
    "colab": {
      "provenance": [],
      "authorship_tag": "ABX9TyOyIJB69Wnunh03EFcSoXqk",
      "include_colab_link": true
    },
    "kernelspec": {
      "name": "python3",
      "display_name": "Python 3"
    },
    "language_info": {
      "name": "python"
    }
  },
  "cells": [
    {
      "cell_type": "markdown",
      "metadata": {
        "id": "view-in-github",
        "colab_type": "text"
      },
      "source": [
        "<a href=\"https://colab.research.google.com/github/TAKE-JP-17/Pytorch/blob/main/odeode.ipynb\" target=\"_parent\"><img src=\"https://colab.research.google.com/assets/colab-badge.svg\" alt=\"Open In Colab\"/></a>"
      ]
    },
    {
      "cell_type": "code",
      "execution_count": null,
      "metadata": {
        "id": "3RmQIXkpsQmL",
        "colab": {
          "base_uri": "https://localhost:8080/",
          "height": 347
        },
        "outputId": "a2efd77d-eab2-404f-b65c-45337da25898"
      },
      "outputs": [
        {
          "output_type": "error",
          "ename": "NameError",
          "evalue": "name 'PINN' is not defined",
          "traceback": [
            "\u001b[0;31m---------------------------------------------------------------------------\u001b[0m",
            "\u001b[0;31mNameError\u001b[0m                                 Traceback (most recent call last)",
            "\u001b[0;32m<ipython-input-2-62b45f99e318>\u001b[0m in \u001b[0;36m<cell line: 4>\u001b[0;34m()\u001b[0m\n\u001b[1;32m      2\u001b[0m \u001b[0;34m\u001b[0m\u001b[0m\n\u001b[1;32m      3\u001b[0m \u001b[0;31m# Define the NN\u001b[0m\u001b[0;34m\u001b[0m\u001b[0;34m\u001b[0m\u001b[0m\n\u001b[0;32m----> 4\u001b[0;31m \u001b[0;32mclass\u001b[0m \u001b[0mPINN\u001b[0m\u001b[0;34m(\u001b[0m\u001b[0mtf\u001b[0m\u001b[0;34m.\u001b[0m\u001b[0mkeras\u001b[0m\u001b[0;34m.\u001b[0m\u001b[0mModel\u001b[0m\u001b[0;34m)\u001b[0m\u001b[0;34m:\u001b[0m\u001b[0;34m\u001b[0m\u001b[0;34m\u001b[0m\u001b[0m\n\u001b[0m\u001b[1;32m      5\u001b[0m   \u001b[0msuper\u001b[0m\u001b[0;34m(\u001b[0m\u001b[0mPINN\u001b[0m\u001b[0;34m,\u001b[0m \u001b[0mself\u001b[0m\u001b[0;34m)\u001b[0m\u001b[0;34m.\u001b[0m\u001b[0m__init__\u001b[0m\u001b[0;34m(\u001b[0m\u001b[0;34m)\u001b[0m\u001b[0;34m\u001b[0m\u001b[0;34m\u001b[0m\u001b[0m\n\u001b[1;32m      6\u001b[0m   \u001b[0mself\u001b[0m\u001b[0;34m.\u001b[0m\u001b[0mdense1\u001b[0m \u001b[0;34m=\u001b[0m \u001b[0mtf\u001b[0m\u001b[0;34m.\u001b[0m\u001b[0mkeras\u001b[0m\u001b[0;34m.\u001b[0m\u001b[0mlayers\u001b[0m\u001b[0;34m.\u001b[0m\u001b[0mDense\u001b[0m\u001b[0;34m(\u001b[0m\u001b[0;36m64\u001b[0m\u001b[0;34m,\u001b[0m \u001b[0mactivation\u001b[0m\u001b[0;34m=\u001b[0m\u001b[0;34m'tanh'\u001b[0m\u001b[0;34m)\u001b[0m\u001b[0;34m\u001b[0m\u001b[0;34m\u001b[0m\u001b[0m\n",
            "\u001b[0;32m<ipython-input-2-62b45f99e318>\u001b[0m in \u001b[0;36mPINN\u001b[0;34m()\u001b[0m\n\u001b[1;32m      3\u001b[0m \u001b[0;31m# Define the NN\u001b[0m\u001b[0;34m\u001b[0m\u001b[0;34m\u001b[0m\u001b[0m\n\u001b[1;32m      4\u001b[0m \u001b[0;32mclass\u001b[0m \u001b[0mPINN\u001b[0m\u001b[0;34m(\u001b[0m\u001b[0mtf\u001b[0m\u001b[0;34m.\u001b[0m\u001b[0mkeras\u001b[0m\u001b[0;34m.\u001b[0m\u001b[0mModel\u001b[0m\u001b[0;34m)\u001b[0m\u001b[0;34m:\u001b[0m\u001b[0;34m\u001b[0m\u001b[0;34m\u001b[0m\u001b[0m\n\u001b[0;32m----> 5\u001b[0;31m   \u001b[0msuper\u001b[0m\u001b[0;34m(\u001b[0m\u001b[0mPINN\u001b[0m\u001b[0;34m,\u001b[0m \u001b[0mself\u001b[0m\u001b[0;34m)\u001b[0m\u001b[0;34m.\u001b[0m\u001b[0m__init__\u001b[0m\u001b[0;34m(\u001b[0m\u001b[0;34m)\u001b[0m\u001b[0;34m\u001b[0m\u001b[0;34m\u001b[0m\u001b[0m\n\u001b[0m\u001b[1;32m      6\u001b[0m   \u001b[0mself\u001b[0m\u001b[0;34m.\u001b[0m\u001b[0mdense1\u001b[0m \u001b[0;34m=\u001b[0m \u001b[0mtf\u001b[0m\u001b[0;34m.\u001b[0m\u001b[0mkeras\u001b[0m\u001b[0;34m.\u001b[0m\u001b[0mlayers\u001b[0m\u001b[0;34m.\u001b[0m\u001b[0mDense\u001b[0m\u001b[0;34m(\u001b[0m\u001b[0;36m64\u001b[0m\u001b[0;34m,\u001b[0m \u001b[0mactivation\u001b[0m\u001b[0;34m=\u001b[0m\u001b[0;34m'tanh'\u001b[0m\u001b[0;34m)\u001b[0m\u001b[0;34m\u001b[0m\u001b[0;34m\u001b[0m\u001b[0m\n\u001b[1;32m      7\u001b[0m   \u001b[0mself\u001b[0m\u001b[0;34m.\u001b[0m\u001b[0mdense2\u001b[0m \u001b[0;34m=\u001b[0m \u001b[0mtf\u001b[0m\u001b[0;34m.\u001b[0m\u001b[0mkeras\u001b[0m\u001b[0;34m.\u001b[0m\u001b[0mlayers\u001b[0m\u001b[0;34m.\u001b[0m\u001b[0mDense\u001b[0m\u001b[0;34m(\u001b[0m\u001b[0;36m64\u001b[0m\u001b[0;34m,\u001b[0m \u001b[0mactivation\u001b[0m\u001b[0;34m=\u001b[0m\u001b[0;34m'tanh'\u001b[0m\u001b[0;34m)\u001b[0m\u001b[0;34m\u001b[0m\u001b[0;34m\u001b[0m\u001b[0m\n",
            "\u001b[0;31mNameError\u001b[0m: name 'PINN' is not defined"
          ]
        }
      ],
      "source": [
        "import tensorflow as tf\n",
        "\n",
        "# Define the NN\n",
        "class PINN(tf.keras.Model):\n",
        "  super(PINN, self).__init__()\n",
        "  self.dense1 = tf.keras.layers.Dense(64, activation='tanh')\n",
        "  self.dense2 = tf.keras.layers.Dense(64, activation='tanh')\n",
        "  self.dense3 = tf.keras.layers.Dense(2, activation=None) # Output layer: [x(t), y(t)]\n",
        "\n",
        "  def call(self, t):\n",
        "    t = self.dense1(t)\n",
        "    t = self.dense2(t)\n",
        "    return self.dense3(t)\n",
        "\n",
        "# Define the Loss Function\n",
        "def loss_fn(model, t):\n",
        "    with tf.GradientTape() as tape1, tf.GradientTape() as tape2:\n",
        "        tape1.watch(t)\n",
        "        tape2.watch(t)\n",
        "        output = model(t)\n",
        "        x = output[:, 0:1]\n",
        "        y = output[:, 1:2]\n",
        "\n",
        "        dx_dt = tape1.gradient(x, t)\n",
        "        dy_dt = tape2.gradient(y, t)\n",
        "\n",
        "        # Residuals from the ODEs\n",
        "        res_x = dx_dt - 2 * x + y\n",
        "        res_y = dy_dt - x + 2 * y\n",
        "\n",
        "        # Initial condition losses\n",
        "        init_loss_x = tf.square(x[0] - 1)\n",
        "        init_loss_y = tf.square(y[0] - 0)\n",
        "\n",
        "        # Total Loss\n",
        "        loss = tf.reduce_mean(tf.square(res_x)) + tf.reduce_mean(tf.square(res_y)) + init_loss_x + init_loss_y\n",
        "    return loss\n",
        "\n",
        "# Define training function\n",
        "def train(model, t, epochs, optimizer):\n",
        "  for epoch in range(epochs):\n",
        "    with tf.GradientTape() as tape:\n",
        "      loss = loss_fn(model, t)\n",
        "    grads = tape.gradient(loss, model.trainable_variables)\n",
        "    optimizer.apply_gradients(zip(grads, model.trainable_variables))\n",
        "    if epoch % 500 == 0:\n",
        "      print(f'Epoch {epoch}: Loss = {loss.numpy()}')\n",
        "\n",
        "# Create the model and optimizer\n",
        "model = PINN()\n",
        "optimizer = tf.keras.optimizers.Adam(learning_rate=0.001)\n",
        "\n",
        "# Training Domain\n",
        "t = tf.convert_to_tensor(np.linspace(0, 5, 100)[:, None], dtype=tf.float32)\n",
        "\n",
        "# Train the model\n",
        "train(model, t, epochs=10000, optimizer=optimizer)\n",
        "\n",
        "# Prediction using the trained model\n",
        "t_test = np.linspace(0, 5, 500)[:, None]\n",
        "x_pred, y_pred = model(t_test).numpy().T\n",
        "\n",
        "\n",
        "# Analytical Solutions\n",
        "x_true = 0.5 * np.exp(-t_test) + 0.5 * np.exp(-3 * t_test)\n",
        "y_true = -0.5 * np.exp(-t_test) + 0.5 * np.exp(-3 * t_test)\n",
        "\n",
        "# Set up the plot with two subplots side by side\n",
        "plt.figure(figsize=(12, 5))\n",
        "\n",
        "# Plot x(t)\n",
        "plt.subplot(1, 2, 1)\n",
        "plt.plot(t_test, x_true, label='Analytical x(t)', color='red')\n",
        "plt.plot(t_test, x_pred, '--', label='PINNs x(t)', color='blue')\n",
        "plt.title(r\"PINNs vs Analytical Solution $x(t)$\", fontsize=14)\n",
        "plt.xlabel(r\"Time $t$\")\n",
        "plt.ylabel(r\"$x(t)$\")\n",
        "plt.grid(True)\n",
        "plt.legend(fontsize=12, loc=\"upper right\")\n",
        "\n",
        "# Plot y(t)\n",
        "plt.subplot(1, 2, 2)\n",
        "plt.plot(t_test, y_true, label='Analytical y(t)', color='red')\n",
        "plt.plot(t_test, y_pred, '--', label='PINNs y(t)', color='blue')\n",
        "plt.title(r\"PINNs vs Analytical Solution $y(t)$\", fontsize=14)\n",
        "plt.xlabel(r\"Time $t$\")\n",
        "plt.ylabel(r\"$y(t)$\")\n",
        "plt.grid(True)\n",
        "plt.legend(fontsize=12, loc=\"lower right\")\n",
        "\n",
        "# Adjust layout and show the plot\n",
        "plt.tight_layout()\n",
        "plt.show()\n",
        "\n"
      ]
    }
  ]
}