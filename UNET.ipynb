{
  "nbformat": 4,
  "nbformat_minor": 0,
  "metadata": {
    "colab": {
      "provenance": [],
      "gpuType": "T4",
      "mount_file_id": "https://github.com/TAKE-JP-17/Pytorch/blob/main/UNET.ipynb",
      "authorship_tag": "ABX9TyNkn39Nz+S+WnXznc1i085N",
      "include_colab_link": true
    },
    "kernelspec": {
      "name": "python3",
      "display_name": "Python 3"
    },
    "language_info": {
      "name": "python"
    },
    "accelerator": "GPU"
  },
  "cells": [
    {
      "cell_type": "markdown",
      "metadata": {
        "id": "view-in-github",
        "colab_type": "text"
      },
      "source": [
        "<a href=\"https://colab.research.google.com/github/TAKE-JP-17/Pytorch/blob/main/UNET.ipynb\" target=\"_parent\"><img src=\"https://colab.research.google.com/assets/colab-badge.svg\" alt=\"Open In Colab\"/></a>"
      ]
    },
    {
      "cell_type": "markdown",
      "source": [
        "Flooded area segmentation using attention unet"
      ],
      "metadata": {
        "id": "aNkMAFPP6WzP"
      }
    },
    {
      "cell_type": "code",
      "source": [
        "from google.colab import drive\n",
        "drive.mount('/content/drive')"
      ],
      "metadata": {
        "id": "p8utiJ-1dkh5"
      },
      "execution_count": null,
      "outputs": []
    },
    {
      "cell_type": "markdown",
      "source": [
        "**Imports and dataset**"
      ],
      "metadata": {
        "id": "EPLKImI16YnZ"
      }
    },
    {
      "cell_type": "code",
      "execution_count": null,
      "metadata": {
        "id": "ZOAu4tMrKnQ6"
      },
      "outputs": [],
      "source": [
        "!pip install keras-tuner -q"
      ]
    },
    {
      "cell_type": "code",
      "source": [
        "!pip install focal_loss -q"
      ],
      "metadata": {
        "id": "bvk3PQH9KosK"
      },
      "execution_count": null,
      "outputs": []
    },
    {
      "cell_type": "code",
      "source": [
        "!pip install tensorflow --upgrade"
      ],
      "metadata": {
        "id": "mN54NcRCa2YP"
      },
      "execution_count": null,
      "outputs": []
    },
    {
      "cell_type": "code",
      "source": [
        "import tensorflow as tf\n",
        "import os\n",
        "import numpy as np\n",
        "import pandas as pd\n",
        "import glob"
      ],
      "metadata": {
        "id": "dheiCi5FMhxI"
      },
      "execution_count": null,
      "outputs": []
    },
    {
      "cell_type": "code",
      "source": [
        "images = sorted(glob.glob('/content/drive/MyDrive/archive/Image/*.jpg'))\n",
        "masks = sorted(glob.glob('/content/drive/MyDrive/archive/Mask/*.png'))\n",
        "len(images), len(masks)"
      ],
      "metadata": {
        "id": "3tqqY9njMj9r"
      },
      "execution_count": null,
      "outputs": []
    },
    {
      "cell_type": "markdown",
      "source": [
        "**Custom data generator**"
      ],
      "metadata": {
        "id": "CuTywzty6fhu"
      }
    },
    {
      "cell_type": "code",
      "source": [
        "import numpy as np\n",
        "import cv2\n",
        "import os\n",
        "import keras\n",
        "from tensorflow.keras.preprocessing.image import ImageDataGenerator\n",
        "\n",
        "class CustomDataGenerator(keras.utils.Sequence):\n",
        "    def __init__(self, images, masks, batch_size=8, img_size=(512, 512), shuffle=True):\n",
        "        self.batch_size = batch_size\n",
        "        self.img_size = img_size\n",
        "        self.shuffle = shuffle\n",
        "        self.images = images #os.listdir(image_folder)\n",
        "        self.masks = masks #os.listdir(mask_folder)\n",
        "\n",
        "        # on each epoch end, shuffle the dataset\n",
        "        self.on_epoch_end()\n",
        "\n",
        "        # datagen function to augment the input image and mask pair\n",
        "        self.datagen = ImageDataGenerator(\n",
        "            rotation_range=5,\n",
        "            width_shift_range=0.1,\n",
        "            height_shift_range=0.1,\n",
        "            zoom_range=0.05,\n",
        "            horizontal_flip=True,\n",
        "            vertical_flip=True,\n",
        "            fill_mode = 'constant',\n",
        "            cval=0.0,\n",
        "        )\n",
        "\n",
        "    # randomly crop the images to 512x512 size\n",
        "    def random_crop(self, image, mask, crop_size=512):\n",
        "\n",
        "        # image width and height calculation\n",
        "        img_height, img_width = image.shape[0], image.shape[1]\n",
        "        mask_height, mask_width = mask.shape[0], mask.shape[1]\n",
        "\n",
        "        # random x and y coordinate for cropping the image\n",
        "        x = np.random.randint(0, img_width - crop_size)\n",
        "        y = np.random.randint(0, img_height - crop_size)\n",
        "\n",
        "        # random crop\n",
        "        image_crop = image[y:y + crop_size, x:x + crop_size, :]\n",
        "        mask_crop = mask[y:y + crop_size, x:x + crop_size]\n",
        "\n",
        "        return image_crop, mask_crop\n",
        "\n",
        "    # data augmentation using keras ImageDataGenerator function\n",
        "    def data_augmentation(self, image, mask):\n",
        "        trans_param = self.datagen.get_random_transform(image.shape)\n",
        "        image = self.datagen.apply_transform(image, trans_param)\n",
        "        mask = self.datagen.apply_transform(mask, trans_param)\n",
        "        return image, mask\n",
        "\n",
        "    # length of the processing batch\n",
        "    def __len__(self):\n",
        "        return int(np.ceil(len(self.images) / self.batch_size))\n",
        "\n",
        "    # data normalization\n",
        "    def data_normalization(self, image, mask):\n",
        "\n",
        "        # reshape mask from 512x512 to 512x512x1\n",
        "        mask = mask.reshape((*self.img_size, 1))\n",
        "\n",
        "        # Binary mask\n",
        "        mask = np.where(mask<127, 0, 1)\n",
        "\n",
        "        # data normalization (If you want to normalize another way, change the below line)\n",
        "        image = image / 255.0\n",
        "\n",
        "        # return image and mask\n",
        "        return image, mask\n",
        "\n",
        "    # data preprocessing, resize, crop image etc\n",
        "    def data_preprocessing(self, image, mask):\n",
        "        image, mask = cv2.resize(image, (576, 576)), cv2.resize(mask, (576, 576))\n",
        "        image, mask = self.random_crop(image, mask)\n",
        "        return image, mask\n",
        "\n",
        "    # on each epoch, shuffle the dataset (image and mask index)\n",
        "    def on_epoch_end(self):\n",
        "        self.indexes = np.arange(len(self.images))\n",
        "        if self.shuffle:\n",
        "            np.random.shuffle(self.indexes)\n",
        "\n",
        "    # get item is the core function\n",
        "    # this function will run in each batch/epoch to load the dataset into RAM and pass to DL model\n",
        "    def __getitem__(self, index):\n",
        "\n",
        "        # start and end index\n",
        "        # the last index can be shorter than the number of batches\n",
        "        start_idx = index * self.batch_size\n",
        "        end_idx = min((index + 1) * self.batch_size, len(self.images))\n",
        "        indexes = self.indexes[start_idx:end_idx]\n",
        "\n",
        "        # initialize the images and mask batches\n",
        "        batch_images = []\n",
        "        batch_masks = []\n",
        "\n",
        "        # iterate over each indexes in batch\n",
        "        for i in indexes:\n",
        "            img_path = self.images[i]\n",
        "            mask_path = self.masks[i]\n",
        "\n",
        "            # read image using open cv\n",
        "            img = cv2.imread(img_path)\n",
        "            mask = cv2.imread(mask_path, cv2.IMREAD_GRAYSCALE)\n",
        "\n",
        "            # Skip if image or mask is not loaded properly\n",
        "            if img is None or mask is None:\n",
        "                continue\n",
        "\n",
        "            # image preprocessing; resize, random crop\n",
        "            img, mask = self.data_preprocessing(img, mask)\n",
        "\n",
        "            # data normalization\n",
        "            img, mask = self.data_normalization(img, mask)\n",
        "\n",
        "            # data augmentation\n",
        "            img, mask = self.data_augmentation(img, mask)\n",
        "\n",
        "            # to fix the issue during training process\n",
        "            mask = mask.astype(np.float32)\n",
        "\n",
        "            # append each image, mask pair to the batches\n",
        "            batch_images.append(img)\n",
        "            batch_masks.append(mask)\n",
        "\n",
        "        # return batch image and batch mamks as a numpy array (n, tile_x, tile_y, channels)\n",
        "        return np.array(batch_images), np.array(batch_masks)"
      ],
      "metadata": {
        "id": "lpLRNAc1Mlnz"
      },
      "execution_count": null,
      "outputs": []
    },
    {
      "cell_type": "markdown",
      "source": [
        "**Train and test dataset split**"
      ],
      "metadata": {
        "id": "hnd3-AZL6uUZ"
      }
    },
    {
      "cell_type": "code",
      "source": [
        "from sklearn.model_selection import train_test_split\n",
        "train_img, test_img, train_mask, test_mask = train_test_split(images, masks, test_size=0.2, random_state=42)"
      ],
      "metadata": {
        "id": "ZsdbyuxGMsg0"
      },
      "execution_count": null,
      "outputs": []
    },
    {
      "cell_type": "code",
      "source": [
        "len(train_img), len(test_img)"
      ],
      "metadata": {
        "id": "MxHL7W67NYYZ"
      },
      "execution_count": null,
      "outputs": []
    },
    {
      "cell_type": "code",
      "source": [
        "# Initialize the generators\n",
        "train_dataset = CustomDataGenerator(train_img, train_mask)\n",
        "test_dataset = CustomDataGenerator(test_img, test_mask)"
      ],
      "metadata": {
        "id": "-vgDlvQxNa9p"
      },
      "execution_count": null,
      "outputs": []
    },
    {
      "cell_type": "code",
      "source": [
        "len(train_dataset), len(test_dataset)"
      ],
      "metadata": {
        "id": "Z7vl9pvbNpM9"
      },
      "execution_count": null,
      "outputs": []
    },
    {
      "cell_type": "markdown",
      "source": [
        "**Custom metrics**\n",
        "\n",
        "1.   Precision\n",
        "2.   Recall\n",
        "3.   F1-Score\n",
        "4.   Dice loss\n",
        "\n"
      ],
      "metadata": {
        "id": "TKbe4Wjp60AQ"
      }
    },
    {
      "cell_type": "markdown",
      "source": [
        "**Custom loss function**"
      ],
      "metadata": {
        "id": "4B9fYYWV7EDp"
      }
    },
    {
      "cell_type": "code",
      "source": [
        "import tensorflow as tf\n",
        "from tensorflow.keras import backend as K\n",
        "\n",
        "# precision\n",
        "def precision_m(y_true, y_pred):\n",
        "    true_positives = tf.keras.backend.sum(tf.keras.backend.round(tf.keras.backend.clip(y_true * y_pred, 0, 1)))\n",
        "    predicted_positives = tf.keras.backend.sum(tf.keras.backend.round(tf.keras.backend.clip(y_pred, 0, 1)))\n",
        "    precision = true_positives / (predicted_positives + tf.keras.backend.epsilon())\n",
        "    return precision\n",
        "\n",
        "# recall\n",
        "def recall_m(y_true, y_pred):\n",
        "    true_positives = tf.keras.backend.sum(tf.keras.backend.round(tf.keras.backend.clip(y_true * y_pred, 0, 1)))\n",
        "    possible_positives = tf.keras.backend.sum(tf.keras.backend.round(tf.keras.backend.clip(y_true, 0, 1)))\n",
        "    recall = true_positives / (possible_positives + tf.keras.backend.epsilon())\n",
        "    return recall\n",
        "\n",
        "# f1 score\n",
        "def f1_m(y_true, y_pred):\n",
        "    precision = precision_m(y_true, y_pred)\n",
        "    recall = recall_m(y_true, y_pred)\n",
        "    return 2 * ((precision * recall) / (precision + recall + tf.keras.backend.epsilon()))\n",
        "\n",
        "def dsc(y_true, y_pred):\n",
        "    smooth = 1.\n",
        "    y_true_f = tf.keras.backend.flatten(y_true)\n",
        "    y_pred_f = tf.keras.backend.flatten(y_pred)\n",
        "    intersection = tf.keras.backend.sum(y_true_f * y_pred_f)\n",
        "    return (2. * intersection + smooth) / (tf.keras.backend.sum(y_true_f) + tf.keras.backend.sum(y_pred_f) + smooth)\n",
        "\n",
        "def dice_loss(y_true, y_pred):\n",
        "    loss = 1 - dsc(y_true, y_pred)\n",
        "    return loss"
      ],
      "metadata": {
        "id": "hFlWPzmgNq6y"
      },
      "execution_count": null,
      "outputs": []
    },
    {
      "cell_type": "markdown",
      "source": [
        "**Testing and visualization of image/mask pair**"
      ],
      "metadata": {
        "id": "_QxT95kx6k3U"
      }
    },
    {
      "cell_type": "code",
      "source": [
        "import matplotlib.pyplot as plt\n",
        "\n",
        "data = CustomDataGenerator(images, masks)\n",
        "batch_images, batch_masks = data.__getitem__(0)\n",
        "\n",
        "img = np.random.randint(0,8)\n",
        "# Visualize the first image and its mask from the batch\n",
        "image = batch_images[img]\n",
        "mask = batch_masks[img]\n",
        "\n",
        "# Plotting the image and its mask\n",
        "plt.figure(figsize=(10, 5))\n",
        "\n",
        "# Display Image\n",
        "plt.subplot(1, 2, 1)\n",
        "plt.imshow(image)\n",
        "plt.title('Image')\n",
        "plt.axis('off')\n",
        "\n",
        "# Display Mask\n",
        "plt.subplot(1, 2, 2)\n",
        "plt.imshow(mask)\n",
        "plt.title('Mask')\n",
        "plt.axis('off')\n",
        "\n",
        "plt.tight_layout()\n",
        "plt.show()"
      ],
      "metadata": {
        "id": "nKkUvteWMp9-"
      },
      "execution_count": null,
      "outputs": []
    },
    {
      "cell_type": "markdown",
      "source": [
        "**Attention UNET**"
      ],
      "metadata": {
        "id": "pt1CQ9sW7G5V"
      }
    },
    {
      "cell_type": "code",
      "source": [
        "from keras import backend as K\n",
        "from keras.models import *\n",
        "from keras.layers import *\n",
        "from keras.optimizers import *\n",
        "from keras.losses import *\n",
        "from tensorflow.keras.layers import UpSampling2D, multiply\n",
        "\n",
        "# 注意力門控區塊（Attention Gating Block）:\n",
        "# x：來自編碼路徑的特徵圖，通常具有較大的空間解析度。\n",
        "# g：來自解碼路徑的特徵圖，通常具有較小的空間解析度。\n",
        "# inter_shape：中間層的通道數，用於縮減特徵圖的通道數以減少計算量。\n",
        "# activation：激活函數的類型，通常為 relu。\n",
        "# name：層的名稱前綴，用於命名每個操作，以便在模型中區分不同的層。\n",
        "def AttnGatingBlock(x, g, inter_shape, activation, name):\n",
        "    ''' take g which is the spatially smaller signal, do a conv to get the same\n",
        "    number of feature channels as x (bigger spatially)\n",
        "    do a conv on x to also get same geature channels (theta_x)\n",
        "    then, upsample g to be same size as x\n",
        "    add x and g (concat_xg)\n",
        "    relu, 1x1 conv, then sigmoid then upsample the final - this gives us attn coefficients'''\n",
        "\n",
        "    shape_x = x.shape  # 32\n",
        "    shape_g = g.shape  # 16\n",
        "\n",
        "\n",
        "    # theta_x：對 x 進行卷積操作，將空間解析度縮小一半，並將通道數減少到 inter_shape。\n",
        "    # phi_g：對 g 進行1x1卷積，將其通道數減少到 inter_shape，這樣 g 和 x 的通道數相同。\n",
        "    theta_x = Conv2D(inter_shape, (2, 2), strides=(2, 2), padding='same', name='xl'+name)(x)  # 16\n",
        "    shape_theta_x = theta_x.shape\n",
        "\n",
        "    phi_g = Conv2D(inter_shape, (1, 1), padding='same')(g)\n",
        "    # upsample_g：對 g 進行轉置卷積，將其空間解析度擴大到與 theta_x 一致。這一步是為了讓 g 和 x 在空間解析度上相匹配。\n",
        "    upsample_g = Conv2DTranspose(inter_shape, (3, 3),strides=(shape_theta_x[1] // shape_g[1], shape_theta_x[2] // shape_g[2]),padding='same', name='g_up'+name)(phi_g)  # 16\n",
        "\n",
        "    # concat_xg：將上採樣後的 g 和 theta_x 相加。\n",
        "    # act_xg：對相加結果應用激活函數，通常是 relu。\n",
        "    concat_xg = add([upsample_g, theta_x])\n",
        "    act_xg = Activation(activation)(concat_xg)\n",
        "    # psi：對激活後的特徵圖進行 1x1 卷積，將其通道數縮減為 1。\n",
        "    # sigmoid_xg：對 psi 的輸出進行 sigmoid 激活，生成一個權重圖（注意力係數），每個值都在 0 到 1 之間。\n",
        "    psi = Conv2D(1, (1, 1), padding='same', name='psi'+name)(act_xg)\n",
        "    sigmoid_xg = Activation('sigmoid')(psi)\n",
        "    shape_sigmoid = sigmoid_xg.shape\n",
        "\n",
        "    # upsample_psi：將注意力係數圖 sigmoid_xg 上採樣到與 x 的空間解析度相同。\n",
        "    upsample_psi = UpSampling2D(size=(shape_x[1] // shape_sigmoid[1], shape_x[2] // shape_sigmoid[2]))(sigmoid_xg)  # 32\n",
        "\n",
        "    # Expand upsample_psi to match the number of channels in shape_x[3]/expend_as：將 upsample_psi 擴展到與 x 相同的通道數。\n",
        "    # upsample_psi = expend_as(upsample_psi, shape_x[3], name)\n",
        "\n",
        "    # Multiply with x/ y：將注意力權重圖 upsample_psi 與原始特徵圖 x 逐元素相乘，這一步突出重要的區域。\n",
        "    y = multiply([upsample_psi, x], name='q_attn' + name)\n",
        "    # result：通過 1x1 卷積將通道數恢復到與 x 相同。\n",
        "    result = Conv2D(shape_x[3], (1, 1), padding='same',name='q_attn_conv'+name)(y)\n",
        "    # result_bn：對結果進行批量正規化，以穩定訓練過程。\n",
        "    result_bn = BatchNormalization(name='q_attn_bn'+name)(result)\n",
        "    return result_bn\n",
        "\n",
        "# UnetConv2D：實現 U-Net 中的基本卷積塊，通過兩層 3x3 卷積、選擇性批量正規化和激活，提取圖像特徵。\n",
        "def UnetConv2D(input, outdim, is_batchnorm, activation, name):\n",
        "\tx = Conv2D(outdim, (3, 3), strides=(1, 1), kernel_initializer=kinit, padding=\"same\", name=name+'_1')(input)\n",
        "\tif is_batchnorm:\n",
        "\t\tx =BatchNormalization(name=name + '_1_bn')(x)\n",
        "\tx = Activation('relu',name=name + '_1_act')(x)\n",
        "\n",
        "\tx = Conv2D(outdim, (3, 3), strides=(1, 1), kernel_initializer=kinit, padding=\"same\", name=name+'_2')(x)\n",
        "\tif is_batchnorm:\n",
        "\t\tx = BatchNormalization(name=name + '_2_bn')(x)\n",
        "\tx = Activation('relu', name=name + '_2_act')(x)\n",
        "\treturn x\n",
        "\n"
      ],
      "metadata": {
        "id": "A84WQu18Nwar"
      },
      "execution_count": null,
      "outputs": []
    },
    {
      "cell_type": "code",
      "source": [
        "# UnetGatingSignal：生成門控信號，通過 1x1 卷積來壓縮特徵圖的維度，用於注意力機制中。\n",
        "\n",
        "import tensorflow as tf\n",
        "from tensorflow.keras.layers import Conv2D, BatchNormalization, Activation\n",
        "\n",
        "def UnetGatingSignal(input, is_batchnorm, name):\n",
        "    ''' this is simply 1x1 convolution, bn, activation '''\n",
        "    shape = input.shape\n",
        "    x = Conv2D(shape[3] * 1, (1, 1), strides=(1, 1), padding=\"same\",  kernel_initializer=kinit, name=name + '_conv')(input)\n",
        "    if is_batchnorm:\n",
        "        x = BatchNormalization(name=name + '_bn')(x)\n",
        "    x = Activation('relu', name = name + '_act')(x)\n",
        "    return x\n",
        "\n",
        "K.set_image_data_format('channels_last')  # TF dimension ordering in this code  # 設置 TensorFlow 的維度順序\n",
        "kinit = 'glorot_normal' # # 權重初始化方法\n",
        "\n",
        "def attn_unet(lr, loss_func=None, pretrained_weights=None,input_size = (512,512,3)):\n",
        "    inputs = Input(shape=input_size)\n",
        "\n",
        "    conv1 = UnetConv2D(inputs, 64, is_batchnorm=True, activation='relu', name='conv1')\n",
        "    pool1 = MaxPooling2D(pool_size=(2, 2))(conv1)\n",
        "\n",
        "    conv2 = UnetConv2D(pool1, 64, is_batchnorm=True, activation='relu', name='conv2')\n",
        "    pool2 = MaxPooling2D(pool_size=(2, 2))(conv2)\n",
        "\n",
        "    conv3 = UnetConv2D(pool2, 128, is_batchnorm=True, activation='relu', name='conv3')\n",
        "    conv3 = Dropout(0.1,name='drop_conv3')(conv3)\n",
        "    pool3 = MaxPooling2D(pool_size=(2, 2))(conv3)\n",
        "\n",
        "    conv4 = UnetConv2D(pool3, 128, is_batchnorm=True, activation='relu', name='conv4')\n",
        "    pool4 = MaxPooling2D(pool_size=(2, 2))(conv4)\n",
        "\n",
        "    conv5 = UnetConv2D(pool4, 256, is_batchnorm=True, activation='relu', name='conv5')\n",
        "    pool5 = MaxPooling2D(pool_size=(2, 2))(conv5)\n",
        "\n",
        "    conv6 = UnetConv2D(pool5, 256, is_batchnorm=True, activation='relu', name='conv6')\n",
        "    pool6 = MaxPooling2D(pool_size=(2, 2))(conv6)\n",
        "\n",
        "    center = UnetConv2D(pool6,512,is_batchnorm=True, activation='relu', name='center')\n",
        "\n",
        "    # Expansion path\n",
        "    g1 = UnetGatingSignal(center, is_batchnorm=True, name='g1')\n",
        "    attn1 = AttnGatingBlock(conv6, g1, 512, activation='relu', name='_1')\n",
        "    # attn1 = Dropout(0.2, name='drop_attn1')(attn1)\n",
        "    convt1 = Conv2DTranspose(64, (3,3), strides=(2,2), padding='same', activation='relu', kernel_initializer=kinit, name='convt1')(center)\n",
        "    up1 = concatenate([convt1, attn1], name='up1')\n",
        "\n",
        "    g2 = UnetGatingSignal(up1, is_batchnorm=True, name='g2')\n",
        "    attn2 = AttnGatingBlock(conv5, g2, 256, activation='relu', name='_2')\n",
        "    # attn2 = Dropout(0.2, name='drop_attn2')(attn2)\n",
        "    convt2 = Conv2DTranspose(64, (3,3), strides=(2,2), padding='same', activation='relu', kernel_initializer=kinit, name='convt2')(up1)\n",
        "    up2 = concatenate([convt2, attn2], name='up2')\n",
        "\n",
        "    g3 = UnetGatingSignal(up2, is_batchnorm=True, name='g3')\n",
        "    attn3 = AttnGatingBlock(conv4, g3, 128, activation='relu', name='_3')\n",
        "    # attn3 = Dropout(0.2, name='drop_attn3')(attn3)\n",
        "    convt3 = Conv2DTranspose(64, (3,3), strides=(2,2), padding='same', activation='relu', kernel_initializer=kinit, name='convt3')(up2)\n",
        "    up3 = concatenate([convt3, attn3], name='up3')\n",
        "\n",
        "    g4 = UnetGatingSignal(up3, is_batchnorm=True, name='g4')\n",
        "    attn4 = AttnGatingBlock(conv3, g4, 128, activation='relu', name='_4')\n",
        "    # attn4 = Dropout(0.2, name='drop_attn4')(attn4)\n",
        "    convt4 = Conv2DTranspose(64, (3,3), strides=(2,2), padding='same', activation='relu', kernel_initializer=kinit, name='convt4')(up3)\n",
        "    up4 = concatenate([convt4, attn4], name='up4')\n",
        "\n",
        "    g5 = UnetGatingSignal(up4, is_batchnorm=True, name='g5')\n",
        "    attn5 = AttnGatingBlock(conv2, g5, 64, activation='relu', name='_5')\n",
        "    attn5 = Dropout(0.2, name='drop_attn5')(attn5)\n",
        "    convt5 = Conv2DTranspose(64, (3,3), strides=(2,2), padding='same', activation='relu', kernel_initializer=kinit, name='convt5')(up4)\n",
        "    up5 = concatenate([convt5, attn5], name='up5')\n",
        "\n",
        "    convt6 = Conv2DTranspose(64, (3,3), strides=(2,2), padding='same', activation='relu', kernel_initializer=kinit, name='convt6')(up5)\n",
        "    up6 = concatenate([convt6, conv1], name='up6')\n",
        "    conv10 = Conv2D(1, (1, 1), activation='sigmoid',  kernel_initializer=kinit, name='final')(up6)\n",
        "\n",
        "    model = Model(inputs, conv10)\n",
        "\n",
        "    # compile model\n",
        "    model.compile(optimizer = Adam(learning_rate=lr), loss = loss_func, metrics = ['accuracy', f1_m, precision_m, recall_m, dsc])\n",
        "\n",
        "    if(pretrained_weights):\n",
        "        model.load_weights(pretrained_weights)\n",
        "\n",
        "    return model\n",
        "\n",
        "# Compile the model\n",
        "model = attn_unet(0.001, loss_func='binary_crossentropy')\n",
        "\n",
        "\n",
        "\n",
        "\n",
        "\n",
        "\n",
        "\n",
        "\n",
        "\n",
        "\n",
        "\n"
      ],
      "metadata": {
        "id": "7zR31m3MOvZP"
      },
      "execution_count": null,
      "outputs": []
    },
    {
      "cell_type": "code",
      "source": [
        "model.summary()"
      ],
      "metadata": {
        "id": "PXyzsB8c4qUx"
      },
      "execution_count": null,
      "outputs": []
    },
    {
      "cell_type": "markdown",
      "source": [
        "**Training model**"
      ],
      "metadata": {
        "id": "xhiG2Kmk7dh2"
      }
    },
    {
      "cell_type": "code",
      "source": [
        "# ModelCheckpoint (checkpointer)：\n",
        "# 這個回調函數會在每個訓練 epoch 結束時，根據模型在驗證集上的 val_f1_m 指標進行監控。\n",
        "# save_best_only=True 表示只會在發現驗證集上的性能有所提升時才保存模型（最佳模型）。\n",
        "# mode=\"max\" 表示當監控的指標值（val_f1_m）最大化時保存模型，因為 F1 分數是越大越好。\n",
        "# verbose=1 會打印出模型保存的相關訊息。\n",
        "\n",
        "# EarlyStopping (earlyStopping)：\n",
        "# 這個回調函數會根據驗證集上的 val_f1_m 指標來監控訓練過程。\n",
        "# patience=5 表示如果 val_f1_m 在 5 個 epoch 內沒有提高，訓練將自動停止，防止模型過擬合。\n",
        "# mode=\"max\" 表示我們期望監控的指標越高越好（在這裡是 F1 分數）。\n",
        "\n",
        "# callback functions\n",
        "checkpointer = tf.keras.callbacks.ModelCheckpoint(f\"/content/drive/MyDrive/dl/flood/flood_best.keras\", monitor=\"val_f1_m\", verbose=1, save_best_only=True, mode=\"max\")\n",
        "earlyStopping = tf.keras.callbacks.EarlyStopping(monitor='val_f1_m', patience=5, verbose=1, mode='max')\n",
        "\n",
        "# 這裡定義了一個包含這兩個回調函數的列表，並將它傳遞給模型的 fit() 方法。這樣可以在訓練過程中啟用這些功能。\n",
        "callbacks = [\n",
        "    earlyStopping,\n",
        "    checkpointer\n",
        "    ]\n",
        "\n",
        "# model training\n",
        "\n",
        "# train_dataset：訓練數據集，用於訓練模型。\n",
        "# epochs=50：設定模型最多訓練 50 個 epoch，但訓練過程可能會提前停止（由於 EarlyStopping 的作用）。\n",
        "# verbose=1：會顯示訓練過程中的詳細輸出，包括每個 epoch 的損失和指標。\n",
        "# validation_data=test_dataset：這裡指定了驗證數據集（test_dataset），用來在每個 epoch 結束後評估模型在未見過數據上的性能。\n",
        "# callbacks=callbacks：回調函數列表，包含了 earlyStopping 和 checkpointer，它們會在訓練過程中被觸發，進行早停和模型保存。\n",
        "\n",
        "# validation_split=0.15\n",
        "history = model.fit(train_dataset,epochs=50,\n",
        "           verbose = 1,\n",
        "           validation_data=test_dataset,\n",
        "           callbacks=callbacks)\n",
        "\n",
        "# save the model weights at the end of the training process\n",
        "model.save(f\"/content/drive/MyDrive/dl/flood/flood_save.keras\")\n"
      ],
      "metadata": {
        "id": "lnpyTvHI7VEI",
        "outputId": "25afb79a-2ff9-49b7-a9ac-6c25ace3e89e",
        "colab": {
          "base_uri": "https://localhost:8080/"
        }
      },
      "execution_count": 17,
      "outputs": [
        {
          "output_type": "stream",
          "name": "stdout",
          "text": [
            "Epoch 1/50\n"
          ]
        },
        {
          "output_type": "stream",
          "name": "stderr",
          "text": [
            "/usr/local/lib/python3.10/dist-packages/keras/src/trainers/data_adapters/py_dataset_adapter.py:121: UserWarning: Your `PyDataset` class should call `super().__init__(**kwargs)` in its constructor. `**kwargs` can include `workers`, `use_multiprocessing`, `max_queue_size`. Do not pass these arguments to `fit()`, as they will be ignored.\n",
            "  self._warn_if_super_not_called()\n"
          ]
        },
        {
          "output_type": "stream",
          "name": "stdout",
          "text": [
            "\u001b[1m29/29\u001b[0m \u001b[32m━━━━━━━━━━━━━━━━━━━━\u001b[0m\u001b[37m\u001b[0m \u001b[1m0s\u001b[0m 5s/step - accuracy: 0.7323 - dsc: 0.5704 - f1_m: 0.6133 - loss: 0.5266 - precision_m: 0.6383 - recall_m: 0.6051\n",
            "Epoch 1: val_f1_m improved from -inf to 0.54272, saving model to /content/drive/MyDrive/dl/flood/flood_best.keras\n",
            "\u001b[1m29/29\u001b[0m \u001b[32m━━━━━━━━━━━━━━━━━━━━\u001b[0m\u001b[37m\u001b[0m \u001b[1m330s\u001b[0m 7s/step - accuracy: 0.7343 - dsc: 0.5724 - f1_m: 0.6164 - loss: 0.5239 - precision_m: 0.6414 - recall_m: 0.6083 - val_accuracy: 0.3837 - val_dsc: 0.4603 - val_f1_m: 0.5427 - val_loss: 0.7157 - val_precision_m: 0.3740 - val_recall_m: 1.0000\n",
            "Epoch 2/50\n",
            "\u001b[1m29/29\u001b[0m \u001b[32m━━━━━━━━━━━━━━━━━━━━\u001b[0m\u001b[37m\u001b[0m \u001b[1m0s\u001b[0m 1s/step - accuracy: 0.8355 - dsc: 0.6801 - f1_m: 0.7694 - loss: 0.3802 - precision_m: 0.7998 - recall_m: 0.7497\n",
            "Epoch 2: val_f1_m did not improve from 0.54272\n",
            "\u001b[1m29/29\u001b[0m \u001b[32m━━━━━━━━━━━━━━━━━━━━\u001b[0m\u001b[37m\u001b[0m \u001b[1m43s\u001b[0m 1s/step - accuracy: 0.8354 - dsc: 0.6801 - f1_m: 0.7694 - loss: 0.3802 - precision_m: 0.7994 - recall_m: 0.7502 - val_accuracy: 0.3632 - val_dsc: 0.5184 - val_f1_m: 0.5426 - val_loss: 0.8100 - val_precision_m: 0.3762 - val_recall_m: 1.0000\n",
            "Epoch 3/50\n",
            "\u001b[1m29/29\u001b[0m \u001b[32m━━━━━━━━━━━━━━━━━━━━\u001b[0m\u001b[37m\u001b[0m \u001b[1m0s\u001b[0m 965ms/step - accuracy: 0.8305 - dsc: 0.6759 - f1_m: 0.7514 - loss: 0.3810 - precision_m: 0.8105 - recall_m: 0.7085\n",
            "Epoch 3: val_f1_m improved from 0.54272 to 0.55198, saving model to /content/drive/MyDrive/dl/flood/flood_best.keras\n",
            "\u001b[1m29/29\u001b[0m \u001b[32m━━━━━━━━━━━━━━━━━━━━\u001b[0m\u001b[37m\u001b[0m \u001b[1m47s\u001b[0m 1s/step - accuracy: 0.8310 - dsc: 0.6768 - f1_m: 0.7524 - loss: 0.3801 - precision_m: 0.8105 - recall_m: 0.7104 - val_accuracy: 0.3752 - val_dsc: 0.5394 - val_f1_m: 0.5520 - val_loss: 0.9311 - val_precision_m: 0.3835 - val_recall_m: 1.0000\n",
            "Epoch 4/50\n",
            "\u001b[1m29/29\u001b[0m \u001b[32m━━━━━━━━━━━━━━━━━━━━\u001b[0m\u001b[37m\u001b[0m \u001b[1m0s\u001b[0m 917ms/step - accuracy: 0.8473 - dsc: 0.7037 - f1_m: 0.7873 - loss: 0.3592 - precision_m: 0.8176 - recall_m: 0.7695\n",
            "Epoch 4: val_f1_m did not improve from 0.55198\n",
            "\u001b[1m29/29\u001b[0m \u001b[32m━━━━━━━━━━━━━━━━━━━━\u001b[0m\u001b[37m\u001b[0m \u001b[1m41s\u001b[0m 1s/step - accuracy: 0.8472 - dsc: 0.7035 - f1_m: 0.7871 - loss: 0.3592 - precision_m: 0.8169 - recall_m: 0.7698 - val_accuracy: 0.3738 - val_dsc: 0.5333 - val_f1_m: 0.5343 - val_loss: 1.0121 - val_precision_m: 0.3665 - val_recall_m: 1.0000\n",
            "Epoch 5/50\n",
            "\u001b[1m29/29\u001b[0m \u001b[32m━━━━━━━━━━━━━━━━━━━━\u001b[0m\u001b[37m\u001b[0m \u001b[1m0s\u001b[0m 932ms/step - accuracy: 0.8444 - dsc: 0.6878 - f1_m: 0.7736 - loss: 0.3619 - precision_m: 0.8120 - recall_m: 0.7478\n",
            "Epoch 5: val_f1_m did not improve from 0.55198\n",
            "\u001b[1m29/29\u001b[0m \u001b[32m━━━━━━━━━━━━━━━━━━━━\u001b[0m\u001b[37m\u001b[0m \u001b[1m41s\u001b[0m 1s/step - accuracy: 0.8442 - dsc: 0.6879 - f1_m: 0.7737 - loss: 0.3622 - precision_m: 0.8115 - recall_m: 0.7484 - val_accuracy: 0.3711 - val_dsc: 0.5391 - val_f1_m: 0.5356 - val_loss: 0.9243 - val_precision_m: 0.3673 - val_recall_m: 1.0000\n",
            "Epoch 6/50\n",
            "\u001b[1m29/29\u001b[0m \u001b[32m━━━━━━━━━━━━━━━━━━━━\u001b[0m\u001b[37m\u001b[0m \u001b[1m0s\u001b[0m 945ms/step - accuracy: 0.8547 - dsc: 0.7134 - f1_m: 0.7966 - loss: 0.3476 - precision_m: 0.8307 - recall_m: 0.7724\n",
            "Epoch 6: val_f1_m improved from 0.55198 to 0.56645, saving model to /content/drive/MyDrive/dl/flood/flood_best.keras\n",
            "\u001b[1m29/29\u001b[0m \u001b[32m━━━━━━━━━━━━━━━━━━━━\u001b[0m\u001b[37m\u001b[0m \u001b[1m85s\u001b[0m 1s/step - accuracy: 0.8547 - dsc: 0.7133 - f1_m: 0.7966 - loss: 0.3475 - precision_m: 0.8304 - recall_m: 0.7727 - val_accuracy: 0.3878 - val_dsc: 0.5715 - val_f1_m: 0.5665 - val_loss: 1.0147 - val_precision_m: 0.3991 - val_recall_m: 0.9996\n",
            "Epoch 7/50\n",
            "\u001b[1m29/29\u001b[0m \u001b[32m━━━━━━━━━━━━━━━━━━━━\u001b[0m\u001b[37m\u001b[0m \u001b[1m0s\u001b[0m 928ms/step - accuracy: 0.8653 - dsc: 0.7129 - f1_m: 0.7992 - loss: 0.3210 - precision_m: 0.8422 - recall_m: 0.7662\n",
            "Epoch 7: val_f1_m did not improve from 0.56645\n",
            "\u001b[1m29/29\u001b[0m \u001b[32m━━━━━━━━━━━━━━━━━━━━\u001b[0m\u001b[37m\u001b[0m \u001b[1m77s\u001b[0m 1s/step - accuracy: 0.8651 - dsc: 0.7131 - f1_m: 0.7994 - loss: 0.3214 - precision_m: 0.8418 - recall_m: 0.7668 - val_accuracy: 0.3741 - val_dsc: 0.5624 - val_f1_m: 0.5497 - val_loss: 1.4672 - val_precision_m: 0.3829 - val_recall_m: 1.0000\n",
            "Epoch 8/50\n",
            "\u001b[1m29/29\u001b[0m \u001b[32m━━━━━━━━━━━━━━━━━━━━\u001b[0m\u001b[37m\u001b[0m \u001b[1m0s\u001b[0m 925ms/step - accuracy: 0.8665 - dsc: 0.7386 - f1_m: 0.8117 - loss: 0.3145 - precision_m: 0.8481 - recall_m: 0.7824\n",
            "Epoch 8: val_f1_m did not improve from 0.56645\n",
            "\u001b[1m29/29\u001b[0m \u001b[32m━━━━━━━━━━━━━━━━━━━━\u001b[0m\u001b[37m\u001b[0m \u001b[1m44s\u001b[0m 1s/step - accuracy: 0.8663 - dsc: 0.7380 - f1_m: 0.8113 - loss: 0.3151 - precision_m: 0.8475 - recall_m: 0.7822 - val_accuracy: 0.4018 - val_dsc: 0.5572 - val_f1_m: 0.5444 - val_loss: 0.9998 - val_precision_m: 0.3768 - val_recall_m: 0.9992\n",
            "Epoch 9/50\n",
            "\u001b[1m29/29\u001b[0m \u001b[32m━━━━━━━━━━━━━━━━━━━━\u001b[0m\u001b[37m\u001b[0m \u001b[1m0s\u001b[0m 937ms/step - accuracy: 0.8487 - dsc: 0.7031 - f1_m: 0.7883 - loss: 0.3490 - precision_m: 0.7953 - recall_m: 0.7960\n",
            "Epoch 9: val_f1_m did not improve from 0.56645\n",
            "\u001b[1m29/29\u001b[0m \u001b[32m━━━━━━━━━━━━━━━━━━━━\u001b[0m\u001b[37m\u001b[0m \u001b[1m41s\u001b[0m 1s/step - accuracy: 0.8489 - dsc: 0.7033 - f1_m: 0.7886 - loss: 0.3487 - precision_m: 0.7960 - recall_m: 0.7956 - val_accuracy: 0.4246 - val_dsc: 0.5493 - val_f1_m: 0.5443 - val_loss: 0.9931 - val_precision_m: 0.3787 - val_recall_m: 0.9935\n",
            "Epoch 10/50\n",
            "\u001b[1m29/29\u001b[0m \u001b[32m━━━━━━━━━━━━━━━━━━━━\u001b[0m\u001b[37m\u001b[0m \u001b[1m0s\u001b[0m 978ms/step - accuracy: 0.8615 - dsc: 0.7209 - f1_m: 0.7983 - loss: 0.3283 - precision_m: 0.8523 - recall_m: 0.7564\n",
            "Epoch 10: val_f1_m improved from 0.56645 to 0.56949, saving model to /content/drive/MyDrive/dl/flood/flood_best.keras\n",
            "\u001b[1m29/29\u001b[0m \u001b[32m━━━━━━━━━━━━━━━━━━━━\u001b[0m\u001b[37m\u001b[0m \u001b[1m45s\u001b[0m 1s/step - accuracy: 0.8617 - dsc: 0.7214 - f1_m: 0.7987 - loss: 0.3277 - precision_m: 0.8522 - recall_m: 0.7573 - val_accuracy: 0.4780 - val_dsc: 0.5723 - val_f1_m: 0.5695 - val_loss: 0.9576 - val_precision_m: 0.4029 - val_recall_m: 0.9934\n",
            "Epoch 11/50\n",
            "\u001b[1m29/29\u001b[0m \u001b[32m━━━━━━━━━━━━━━━━━━━━\u001b[0m\u001b[37m\u001b[0m \u001b[1m0s\u001b[0m 937ms/step - accuracy: 0.8648 - dsc: 0.7198 - f1_m: 0.7968 - loss: 0.3249 - precision_m: 0.8151 - recall_m: 0.7919\n",
            "Epoch 11: val_f1_m improved from 0.56949 to 0.59151, saving model to /content/drive/MyDrive/dl/flood/flood_best.keras\n",
            "\u001b[1m29/29\u001b[0m \u001b[32m━━━━━━━━━━━━━━━━━━━━\u001b[0m\u001b[37m\u001b[0m \u001b[1m82s\u001b[0m 1s/step - accuracy: 0.8648 - dsc: 0.7203 - f1_m: 0.7973 - loss: 0.3247 - precision_m: 0.8158 - recall_m: 0.7921 - val_accuracy: 0.4984 - val_dsc: 0.5960 - val_f1_m: 0.5915 - val_loss: 1.2066 - val_precision_m: 0.4224 - val_recall_m: 0.9902\n",
            "Epoch 12/50\n",
            "\u001b[1m29/29\u001b[0m \u001b[32m━━━━━━━━━━━━━━━━━━━━\u001b[0m\u001b[37m\u001b[0m \u001b[1m0s\u001b[0m 952ms/step - accuracy: 0.8636 - dsc: 0.7308 - f1_m: 0.8044 - loss: 0.3278 - precision_m: 0.8298 - recall_m: 0.7864\n",
            "Epoch 12: val_f1_m improved from 0.59151 to 0.69050, saving model to /content/drive/MyDrive/dl/flood/flood_best.keras\n",
            "\u001b[1m29/29\u001b[0m \u001b[32m━━━━━━━━━━━━━━━━━━━━\u001b[0m\u001b[37m\u001b[0m \u001b[1m85s\u001b[0m 1s/step - accuracy: 0.8639 - dsc: 0.7312 - f1_m: 0.8048 - loss: 0.3273 - precision_m: 0.8303 - recall_m: 0.7868 - val_accuracy: 0.7103 - val_dsc: 0.6227 - val_f1_m: 0.6905 - val_loss: 0.6351 - val_precision_m: 0.5548 - val_recall_m: 0.9288\n",
            "Epoch 13/50\n",
            "\u001b[1m29/29\u001b[0m \u001b[32m━━━━━━━━━━━━━━━━━━━━\u001b[0m\u001b[37m\u001b[0m \u001b[1m0s\u001b[0m 1s/step - accuracy: 0.8579 - dsc: 0.7305 - f1_m: 0.8087 - loss: 0.3268 - precision_m: 0.8164 - recall_m: 0.8080\n",
            "Epoch 13: val_f1_m did not improve from 0.69050\n",
            "\u001b[1m29/29\u001b[0m \u001b[32m━━━━━━━━━━━━━━━━━━━━\u001b[0m\u001b[37m\u001b[0m \u001b[1m43s\u001b[0m 1s/step - accuracy: 0.8581 - dsc: 0.7308 - f1_m: 0.8089 - loss: 0.3265 - precision_m: 0.8166 - recall_m: 0.8082 - val_accuracy: 0.6569 - val_dsc: 0.6499 - val_f1_m: 0.6712 - val_loss: 0.7750 - val_precision_m: 0.5250 - val_recall_m: 0.9442\n",
            "Epoch 14/50\n",
            "\u001b[1m29/29\u001b[0m \u001b[32m━━━━━━━━━━━━━━━━━━━━\u001b[0m\u001b[37m\u001b[0m \u001b[1m0s\u001b[0m 989ms/step - accuracy: 0.8675 - dsc: 0.7266 - f1_m: 0.7990 - loss: 0.3130 - precision_m: 0.8567 - recall_m: 0.7565\n",
            "Epoch 14: val_f1_m improved from 0.69050 to 0.76283, saving model to /content/drive/MyDrive/dl/flood/flood_best.keras\n",
            "\u001b[1m29/29\u001b[0m \u001b[32m━━━━━━━━━━━━━━━━━━━━\u001b[0m\u001b[37m\u001b[0m \u001b[1m86s\u001b[0m 1s/step - accuracy: 0.8675 - dsc: 0.7269 - f1_m: 0.7994 - loss: 0.3131 - precision_m: 0.8565 - recall_m: 0.7573 - val_accuracy: 0.8230 - val_dsc: 0.6621 - val_f1_m: 0.7628 - val_loss: 0.4268 - val_precision_m: 0.6722 - val_recall_m: 0.8878\n",
            "Epoch 15/50\n",
            "\u001b[1m29/29\u001b[0m \u001b[32m━━━━━━━━━━━━━━━━━━━━\u001b[0m\u001b[37m\u001b[0m \u001b[1m0s\u001b[0m 995ms/step - accuracy: 0.8717 - dsc: 0.7528 - f1_m: 0.8265 - loss: 0.3070 - precision_m: 0.8449 - recall_m: 0.8169\n",
            "Epoch 15: val_f1_m improved from 0.76283 to 0.81898, saving model to /content/drive/MyDrive/dl/flood/flood_best.keras\n",
            "\u001b[1m29/29\u001b[0m \u001b[32m━━━━━━━━━━━━━━━━━━━━\u001b[0m\u001b[37m\u001b[0m \u001b[1m46s\u001b[0m 1s/step - accuracy: 0.8717 - dsc: 0.7525 - f1_m: 0.8262 - loss: 0.3071 - precision_m: 0.8447 - recall_m: 0.8164 - val_accuracy: 0.8387 - val_dsc: 0.7246 - val_f1_m: 0.8190 - val_loss: 0.3810 - val_precision_m: 0.7549 - val_recall_m: 0.9059\n",
            "Epoch 16/50\n",
            "\u001b[1m29/29\u001b[0m \u001b[32m━━━━━━━━━━━━━━━━━━━━\u001b[0m\u001b[37m\u001b[0m \u001b[1m0s\u001b[0m 995ms/step - accuracy: 0.8770 - dsc: 0.7519 - f1_m: 0.8297 - loss: 0.2995 - precision_m: 0.8588 - recall_m: 0.8093\n",
            "Epoch 16: val_f1_m did not improve from 0.81898\n",
            "\u001b[1m29/29\u001b[0m \u001b[32m━━━━━━━━━━━━━━━━━━━━\u001b[0m\u001b[37m\u001b[0m \u001b[1m79s\u001b[0m 1s/step - accuracy: 0.8769 - dsc: 0.7518 - f1_m: 0.8294 - loss: 0.2997 - precision_m: 0.8582 - recall_m: 0.8094 - val_accuracy: 0.8317 - val_dsc: 0.6691 - val_f1_m: 0.8013 - val_loss: 0.3945 - val_precision_m: 0.7337 - val_recall_m: 0.8928\n",
            "Epoch 17/50\n",
            "\u001b[1m29/29\u001b[0m \u001b[32m━━━━━━━━━━━━━━━━━━━━\u001b[0m\u001b[37m\u001b[0m \u001b[1m0s\u001b[0m 989ms/step - accuracy: 0.8534 - dsc: 0.7030 - f1_m: 0.7741 - loss: 0.3273 - precision_m: 0.8141 - recall_m: 0.7689\n",
            "Epoch 17: val_f1_m did not improve from 0.81898\n",
            "\u001b[1m29/29\u001b[0m \u001b[32m━━━━━━━━━━━━━━━━━━━━\u001b[0m\u001b[37m\u001b[0m \u001b[1m81s\u001b[0m 1s/step - accuracy: 0.8535 - dsc: 0.7036 - f1_m: 0.7748 - loss: 0.3274 - precision_m: 0.8145 - recall_m: 0.7694 - val_accuracy: 0.8340 - val_dsc: 0.6755 - val_f1_m: 0.7837 - val_loss: 0.3948 - val_precision_m: 0.7161 - val_recall_m: 0.8726\n",
            "Epoch 18/50\n",
            "\u001b[1m29/29\u001b[0m \u001b[32m━━━━━━━━━━━━━━━━━━━━\u001b[0m\u001b[37m\u001b[0m \u001b[1m0s\u001b[0m 981ms/step - accuracy: 0.8805 - dsc: 0.7434 - f1_m: 0.8281 - loss: 0.2898 - precision_m: 0.8613 - recall_m: 0.8011\n",
            "Epoch 18: val_f1_m did not improve from 0.81898\n",
            "\u001b[1m29/29\u001b[0m \u001b[32m━━━━━━━━━━━━━━━━━━━━\u001b[0m\u001b[37m\u001b[0m \u001b[1m43s\u001b[0m 1s/step - accuracy: 0.8803 - dsc: 0.7435 - f1_m: 0.8279 - loss: 0.2905 - precision_m: 0.8609 - recall_m: 0.8012 - val_accuracy: 0.8166 - val_dsc: 0.6343 - val_f1_m: 0.7109 - val_loss: 0.4334 - val_precision_m: 0.8425 - val_recall_m: 0.6170\n",
            "Epoch 19/50\n",
            "\u001b[1m29/29\u001b[0m \u001b[32m━━━━━━━━━━━━━━━━━━━━\u001b[0m\u001b[37m\u001b[0m \u001b[1m0s\u001b[0m 993ms/step - accuracy: 0.8721 - dsc: 0.7345 - f1_m: 0.8221 - loss: 0.3096 - precision_m: 0.8488 - recall_m: 0.8046\n",
            "Epoch 19: val_f1_m did not improve from 0.81898\n",
            "\u001b[1m29/29\u001b[0m \u001b[32m━━━━━━━━━━━━━━━━━━━━\u001b[0m\u001b[37m\u001b[0m \u001b[1m45s\u001b[0m 1s/step - accuracy: 0.8719 - dsc: 0.7343 - f1_m: 0.8217 - loss: 0.3098 - precision_m: 0.8482 - recall_m: 0.8045 - val_accuracy: 0.8434 - val_dsc: 0.7317 - val_f1_m: 0.8036 - val_loss: 0.3589 - val_precision_m: 0.7582 - val_recall_m: 0.8603\n",
            "Epoch 20/50\n",
            "\u001b[1m29/29\u001b[0m \u001b[32m━━━━━━━━━━━━━━━━━━━━\u001b[0m\u001b[37m\u001b[0m \u001b[1m0s\u001b[0m 999ms/step - accuracy: 0.8754 - dsc: 0.7456 - f1_m: 0.8177 - loss: 0.2936 - precision_m: 0.8605 - recall_m: 0.7836\n",
            "Epoch 20: val_f1_m did not improve from 0.81898\n",
            "\u001b[1m29/29\u001b[0m \u001b[32m━━━━━━━━━━━━━━━━━━━━\u001b[0m\u001b[37m\u001b[0m \u001b[1m79s\u001b[0m 1s/step - accuracy: 0.8755 - dsc: 0.7459 - f1_m: 0.8178 - loss: 0.2936 - precision_m: 0.8604 - recall_m: 0.7840 - val_accuracy: 0.8457 - val_dsc: 0.7424 - val_f1_m: 0.8097 - val_loss: 0.3538 - val_precision_m: 0.7508 - val_recall_m: 0.8821\n",
            "Epoch 20: early stopping\n"
          ]
        }
      ]
    },
    {
      "cell_type": "markdown",
      "source": [
        "**Model performance**"
      ],
      "metadata": {
        "id": "NkpHHgf37jY3"
      }
    },
    {
      "cell_type": "code",
      "source": [
        "fig,((ax11, ax12),(ax13,ax14)) = plt.subplots(2,2,figsize=(10,10))\n",
        "ax11.plot(history.history['loss'])\n",
        "ax11.plot(history.history['val_loss'])\n",
        "ax11.title.set_text('Unet model loss')\n",
        "ax11.set_ylabel('loss')\n",
        "ax11.set_xlabel('epoch')\n",
        "ax11.legend(['train', 'validation'], loc='upper left')\n",
        "\n",
        "ax12.plot(history.history['precision_m'])\n",
        "ax12.plot(history.history['val_precision_m'])\n",
        "ax12.set_title('Unet model precision')\n",
        "ax12.set_ylabel('precision')\n",
        "ax12.set_xlabel('epoch')\n",
        "ax12.legend(['train', 'validation'], loc='upper left')\n",
        "\n",
        "ax13.plot(history.history['recall_m'])\n",
        "ax13.plot(history.history['val_recall_m'])\n",
        "ax13.set_title('Unet model recall')\n",
        "ax13.set_ylabel('recall')\n",
        "ax13.set_xlabel('epoch')\n",
        "ax13.legend(['train', 'validation'], loc='upper left')\n",
        "\n",
        "ax14.plot(history.history['f1_m'])\n",
        "ax14.plot(history.history['val_f1_m'])\n",
        "ax14.set_title('Unet model f1')\n",
        "ax14.set_ylabel('f1')\n",
        "ax14.set_xlabel('epoch')\n",
        "ax14.legend(['train', 'validation'], loc='upper left')"
      ],
      "metadata": {
        "id": "lKn7Y28mNPXb",
        "outputId": "445f9ebf-915b-4fa7-b062-0dae909321ed",
        "colab": {
          "base_uri": "https://localhost:8080/",
          "height": 889
        }
      },
      "execution_count": 18,
      "outputs": [
        {
          "output_type": "execute_result",
          "data": {
            "text/plain": [
              "<matplotlib.legend.Legend at 0x796881303160>"
            ]
          },
          "metadata": {},
          "execution_count": 18
        },
        {
          "output_type": "display_data",
          "data": {
            "text/plain": [
              "<Figure size 1000x1000 with 4 Axes>"
            ],
            "image/png": "[encoded data removed]"
          },
          "metadata": {}
        }
      ]
    },
    {
      "cell_type": "markdown",
      "source": [
        "**Load best model**"
      ],
      "metadata": {
        "id": "_3acUOK97l6p"
      }
    },
    {
      "cell_type": "code",
      "source": [
        "from keras.models import load_model\n",
        "\n",
        "# Define the custom loss function before loading the model\n",
        "custom_objects = {\"f1_m\": f1_m, 'precision_m': precision_m, 'recall_m': recall_m, 'dsc': dsc}\n",
        "\n",
        "model = load_model('/content/drive/MyDrive/dl/flood/flood_best.keras', custom_objects=custom_objects)\n",
        "\n",
        "# pred"
      ],
      "metadata": {
        "id": "wO1v0uGZNZMW"
      },
      "execution_count": 20,
      "outputs": []
    },
    {
      "cell_type": "code",
      "source": [
        "# accuracy, f1_score, precision, recall, dsc = model.evaluate(test_dataset, verbose=0)\n",
        "loss, accuracy, f1_score, precision, recall, dsc = model.evaluate(test_dataset, verbose=0)\n",
        "print(loss, accuracy, f1_score, precision, recall, dsc)"
      ],
      "metadata": {
        "id": "tb21WrlAO1W3",
        "outputId": "a94cb713-7be6-4b30-f9a8-59b1c3104b67",
        "colab": {
          "base_uri": "https://localhost:8080/"
        }
      },
      "execution_count": 21,
      "outputs": [
        {
          "output_type": "stream",
          "name": "stdout",
          "text": [
            "0.39586466550827026 0.8293772339820862 0.7855701446533203 0.7044031023979187 0.8969926834106445 0.6904793977737427\n"
          ]
        }
      ]
    },
    {
      "cell_type": "markdown",
      "source": [
        "**Prediction on custom images**"
      ],
      "metadata": {
        "id": "EinB7Px87pzi"
      }
    },
    {
      "cell_type": "code",
      "source": [
        "import glob\n",
        "imgs = glob.glob('/content/*.jpg')\n",
        "\n",
        "img_test = np.zeros((3, 512, 512, 3))\n",
        "for index, i in enumerate(imgs):\n",
        "  img = cv2.imread(i)\n",
        "  img = cv2.resize(img, (512, 512))\n",
        "  img = img / 255.0\n",
        "  # print(img.shape)\n",
        "  img_test[index] = img"
      ],
      "metadata": {
        "id": "tJjOOUb1O1zv"
      },
      "execution_count": 22,
      "outputs": []
    },
    {
      "cell_type": "code",
      "source": [
        "pred = model.predict(img_test)\n",
        "pred = np.where(pred > 0.5, 1, 0)\n",
        "pred.shape"
      ],
      "metadata": {
        "id": "cucab-JkPDSG",
        "outputId": "255ebdde-ff69-418c-e41e-25ed12d697ca",
        "colab": {
          "base_uri": "https://localhost:8080/"
        }
      },
      "execution_count": 23,
      "outputs": [
        {
          "output_type": "stream",
          "name": "stdout",
          "text": [
            "\u001b[1m1/1\u001b[0m \u001b[32m━━━━━━━━━━━━━━━━━━━━\u001b[0m\u001b[37m\u001b[0m \u001b[1m11s\u001b[0m 11s/step\n"
          ]
        },
        {
          "output_type": "execute_result",
          "data": {
            "text/plain": [
              "(3, 512, 512, 1)"
            ]
          },
          "metadata": {},
          "execution_count": 23
        }
      ]
    },
    {
      "cell_type": "code",
      "source": [
        "fig,(axes)= plt.subplots(3, 2, figsize=(12,12))\n",
        "\n",
        "for i in range(3):\n",
        "    # Load and display the original image\n",
        "    axes[i, 0].imshow(img_test[i])\n",
        "    axes[i, 0].set_title(f'Image {i+1}')\n",
        "    axes[i, 0].axis('off')\n",
        "\n",
        "    # Load and display the corresponding prediction\n",
        "    axes[i, 1].imshow(pred[i])\n",
        "    axes[i, 1].set_title(f'Prediction {i+1}')\n",
        "    axes[i, 1].axis('off')\n",
        "\n",
        "plt.tight_layout()\n",
        "\n"
      ],
      "metadata": {
        "id": "bSnlsr8zPJE5",
        "outputId": "f26c0a15-65af-4c38-b9dc-3770ea592f69",
        "colab": {
          "base_uri": "https://localhost:8080/",
          "height": 1000
        }
      },
      "execution_count": 24,
      "outputs": [
        {
          "output_type": "display_data",
          "data": {
            "text/plain": [
              "<Figure size 1200x1200 with 6 Axes>"
            ],
            "image/png": "[encoded data removed]"
          },
          "metadata": {}
        }
      ]
    },
    {
      "cell_type": "code",
      "source": [
        "pip install tensorflow h5py\n",
        "\n",
        "from tensorflow.keras.models import load_model\n",
        "\n",
        "# 載入 .keras 模型\n",
        "model = load_model('your_model.keras')\n",
        "\n",
        "# 保存模型為 .h5 格式\n",
        "model.save('your_model.h5')"
      ],
      "metadata": {
        "id": "PXdIYSa9v7fV"
      },
      "execution_count": null,
      "outputs": []
    }
  ]
}